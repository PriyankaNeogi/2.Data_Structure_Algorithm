{
 "cells": [
  {
   "cell_type": "markdown",
   "id": "76475342-f0a2-4b43-a23e-0a8574fcf60d",
   "metadata": {},
   "source": [
    "# Linear Search 1"
   ]
  },
  {
   "cell_type": "markdown",
   "id": "736fd9b1-663b-44ff-bb0d-d1323748e6f0",
   "metadata": {},
   "source": [
    "**Question 1. Find the Last Occurrence of a Target Element**\n",
    "\n",
    "Given a list, find the index of the last occurrence of a target element. Return -1 if the element is not present.\n"
   ]
  },
  {
   "cell_type": "code",
   "execution_count": 115,
   "id": "7416c522-8ebd-494e-a329-cff2025f8be8",
   "metadata": {},
   "outputs": [
    {
     "data": {
      "text/plain": [
       "5"
      ]
     },
     "execution_count": 115,
     "metadata": {},
     "output_type": "execute_result"
    }
   ],
   "source": [
    "def last_occurence_target(nums, target):\n",
    "    \n",
    "    for i in range((len(nums)-1),-1,-1):      # takes the loop index from last to first for a list i.e. (n to 0)\n",
    "        if nums[i] == target:                 # if target matches with the list value \n",
    "            return i                          # return the index\n",
    "    return -1                                 # else return -1 as index i.e (not an index from list)\n",
    "\n",
    "# usage\n",
    "nums = [1, 2, 3, 2, 5, 2, 4]\n",
    "target1 = 2\n",
    "last_occurence_target(nums, target1)\n",
    "\n",
    "#Output: 5 (last occurrence of 2 is at index 5)"
   ]
  },
  {
   "cell_type": "code",
   "execution_count": 116,
   "id": "e3a78c9a",
   "metadata": {},
   "outputs": [
    {
     "data": {
      "text/plain": [
       "5"
      ]
     },
     "execution_count": 116,
     "metadata": {},
     "output_type": "execute_result"
    }
   ],
   "source": [
    "def last_occurence_target(nums, target):\n",
    "    \n",
    "    result = []                           # create a list to save the index of the target elemnt found in list\n",
    "    for i in range(len(nums)):            # takes the loop value from from 0 to (length-1)\n",
    "        if nums[i] == target:             # if target matches with the list value \n",
    "            result.append(i)              # appends all the index one by one\n",
    "    return(result[-1])                    # return the list's value from end i.e. last occurence index\n",
    "\n",
    "# usage\n",
    "nums = [1, 2, 3, 2, 5, 2, 4]\n",
    "target1 = 2\n",
    "last_occurence_target(nums, target1)\n",
    "\n",
    "#Output: 5 (last occurrence of 2 is at index 5)"
   ]
  },
  {
   "cell_type": "markdown",
   "id": "511c81db",
   "metadata": {},
   "source": [
    "#### If you are given a target, you need to find the two closest elements in a list. For example, consider this list: 1, 4, 7, 10, and 15. The target is 9. "
   ]
  },
  {
   "cell_type": "code",
   "execution_count": 5,
   "id": "c6123091",
   "metadata": {},
   "outputs": [
    {
     "data": {
      "text/plain": [
       "[7, 10]"
      ]
     },
     "execution_count": 5,
     "metadata": {},
     "output_type": "execute_result"
    }
   ],
   "source": [
    "# if 9 were present in the list. \n",
    "# You could loop through the list, checking each element. \n",
    "# If the current element is equal to the target, you would print it.\n",
    "# print the element at index i - 1 or i + 1\n",
    "\n",
    "def closest_elements(nums, target):\n",
    "    for i in range(len(nums)):\n",
    "        if nums[i] == target:\n",
    "            return([nums[i-1], nums[i+1]])\n",
    " \n",
    "# usage\n",
    "nums = [1, 4, 7, 9, 10, 15]\n",
    "target = 9\n",
    "\n",
    "closest_elements(nums, target)"
   ]
  },
  {
   "cell_type": "markdown",
   "id": "5d7ab16f-1af7-4300-8dc0-421fd64d19d9",
   "metadata": {},
   "source": [
    "**Question 2. Find Two Closest Elements to the Target**\n",
    "\n",
    "Problem: Given a list and a target, find the two elements closest to the target.\n"
   ]
  },
  {
   "cell_type": "markdown",
   "id": "20d314e4",
   "metadata": {},
   "source": [
    "Let's say our target is 9. \n",
    "- What we'll do is take the absolute difference between the target and each element in the list.\n",
    "    - For example, the difference between 1 and 9 is 8, \n",
    "    - between 4 and 9 is 5, \n",
    "    - between 7 and 9 is 2, \n",
    "    - between 10 and 9 is 1, and \n",
    "    - between 15 and 9 is 6.\n",
    "\n",
    "Now, think of it this way: I have a list of tuples, \n",
    "- where each tuple contains the closest element and \n",
    "- the difference. \n",
    "\n",
    "One tuple holds \n",
    "- the first closest element and its difference, and \n",
    "\n",
    "another tuple holds\n",
    "- the second closest element and its difference. \n",
    "\n",
    "##### The decision about the closest elements will be based on the differences. \n",
    "\n",
    "For example, if the differences are 8, 5, 2, 1, and 6, we will start building the list from there.\n",
    "\n",
    "To start, we don't know the difference or the elements yet.\n",
    "- So, let's assume the difference is a very large number, like 1000 or 999. \n",
    "    - This is just a placeholder. \n",
    "    - Generally, we assume infinity in such cases.\n",
    "\n",
    "What I'm saying is that we maintain \n",
    "- a list of two closest elements where \n",
    "- each entry consists of the difference and the corresponding element. \n",
    "\n",
    "- Initially, let's assume the first element's difference is 1000, and we don't know the element yet (we can mark it as None). \n",
    "- The second element could have a difference of 999, and again, we don't know the element.\n",
    "\n",
    "\n",
    "Here's how I would approach this problem: \n",
    "- I start from the first element in the list and \n",
    "- calculate its difference from the target, which is 9. \n",
    "    - If the difference is smaller than any of the current values in our tuple list,\n",
    "    - I’ll replace one of them.\n",
    "```\n",
    "closest1 = (999, None)  # (difference, element)\n",
    "\n",
    "closest2 = (1000, None)  # (difference, element)\n",
    "```\n",
    "For instance, \n",
    "- after processing the first element (which is 1),\n",
    "- the difference is 8, \n",
    "    - so the tuple list becomes [(8, 1), (1000, None)]. \n",
    "- Next, I move to the second element, 4. \n",
    "- The difference between 4 and 9 is 5, \n",
    "    - which is smaller than 8, \n",
    "    - so I update the list to [(5, 4), (8, 1)].\n",
    "\n",
    "#### Write code in such a way that it satisfies all the conditions and cases."
   ]
  },
  {
   "cell_type": "code",
   "execution_count": 28,
   "id": "0f07296c",
   "metadata": {},
   "outputs": [
    {
     "name": "stdout",
     "output_type": "stream",
     "text": [
      "The two closest elements to 12 are: [11, 10]\n"
     ]
    }
   ],
   "source": [
    "def find_two_closest_elements(arr, target):\n",
    "    # Initialize the two closest elements with infinity for the difference and None for the elements\n",
    "    closest1 = (float('inf'), None)  # (difference, element)\n",
    "    closest2 = (float('inf'), None)  # (difference, element)\n",
    "\n",
    "    # Iterate through each element in the array\n",
    "    for num in arr:\n",
    "        \n",
    "        # Calculate the absolute difference from the target\n",
    "        difference = abs(num - target)\n",
    "\n",
    "        # Check if this difference is smaller than the first closest element's difference\n",
    "        if len(arr) <= 2:\n",
    "            raise ValueError(\"The array must have at least 2 elements\")\n",
    "        elif difference < closest1[0]:\n",
    "            \n",
    "            # Move the first closest to second, and update the first closest\n",
    "            closest2 = closest1\n",
    "            closest1 = (difference, num)\n",
    "            \n",
    "        # If the difference is not smaller than the first, check if it's smaller than the second\n",
    "        elif difference < closest2[0]:\n",
    "            closest2 = (difference, num)\n",
    "\n",
    "    return [closest1[1], closest2[1]]\n",
    "\n",
    "# Example usage\n",
    "arr = [1, 6, 4, 11, 10, 8, 15]\n",
    "target = 12\n",
    "closest_elements = find_two_closest_elements(arr, target)\n",
    "print(f\"The two closest elements to {target} are: {closest_elements}\")\n"
   ]
  },
  {
   "cell_type": "markdown",
   "id": "50896877",
   "metadata": {},
   "source": [
    "**TC - O(n)**"
   ]
  },
  {
   "cell_type": "markdown",
   "id": "8f517496",
   "metadata": {},
   "source": [
    "####  Brute Force Method 1 :\n",
    "Time Complexity -  O(n log n)"
   ]
  },
  {
   "cell_type": "code",
   "execution_count": 117,
   "id": "ffbac2c6",
   "metadata": {},
   "outputs": [
    {
     "name": "stdout",
     "output_type": "stream",
     "text": [
      "The 2 closest element to target 9 is [10, 7]\n"
     ]
    }
   ],
   "source": [
    "nums = [1, 4, 7, 10, 15]\n",
    "target = 9\n",
    "\n",
    " # Create an empty list to add the difference of target and list values \n",
    "difference = []  \n",
    "\n",
    "for i in nums:                    # takes each value from the input list\n",
    "    minus = abs(i - target)       # calculates absoulte difference with the target\n",
    "    difference.append(minus)               \n",
    "\n",
    "sorted_difference = sorted(difference)    # sorts the difference list\n",
    "\n",
    "# create an empty list to add the index in the sorted manner\n",
    "indices = []\n",
    "for j in sorted_difference:         # picks value from the sorted list\n",
    "    index = difference.index(j)     # finds the index in the difference list by taking value from sorted list\n",
    "    indices.append(index)           # it will add index in the sorted form \n",
    "    \n",
    "\n",
    "first_two_indices = indices[:2]       # slice first two indices\n",
    "\n",
    "closest_element = []\n",
    "for k in first_two_indices:\n",
    "    closest_element.append(nums[k])     \n",
    "    \n",
    "    \n",
    "print(f\"The 2 closest element to target {target} is {closest_element}\")\n",
    "\n",
    "# Output: [7, 10] (both 7 and 10 are closest to 9)"
   ]
  },
  {
   "cell_type": "markdown",
   "id": "77021111",
   "metadata": {},
   "source": [
    "**Brute Force Method 2 :**\n",
    "\n",
    "Time Complexity - O(n log n)"
   ]
  },
  {
   "cell_type": "code",
   "execution_count": 11,
   "id": "3a608d74",
   "metadata": {
    "scrolled": true
   },
   "outputs": [
    {
     "name": "stdout",
     "output_type": "stream",
     "text": [
      "The key value pair of distance and index is : {8: 0, 5: 1, 2: 2, 1: 3, 6: 4}\n",
      "The sorted distance value is : [1, 2, 5, 6, 8]\n",
      "The two shortest distances are : [1, 2]\n",
      "the corresponding indices of the closest numbers : [3, 2]\n",
      "Two closest numbers from the target {target} : [10, 7]\n"
     ]
    }
   ],
   "source": [
    "nums = [1, 4, 7, 10, 15]\n",
    "target = 9\n",
    "\n",
    "# create a dictionary to add distance as `key` and index as `value` \n",
    "distance_index = {}\n",
    "\n",
    "\n",
    "for index, num in enumerate(nums):\n",
    "   dist = abs(target - num)        # calculates distance of each item \n",
    "   distance_index[dist] = index    # inserting key value pair\n",
    "print(\"The key value pair of distance and index is :\", distance_index)   \n",
    "\n",
    "# sorts keys 'distance' from dictionary and creates a list of keys in ascending order\n",
    "sorted_distance = sorted(distance_index) \n",
    "print(\"The sorted distance value is :\", sorted_distance)\n",
    "\n",
    "# takes first two values of distance\n",
    "closest_distance = sorted_distance[:2]\n",
    "print(\"The two shortest distances are :\", closest_distance)\n",
    "\n",
    "# extract values for the corresponding keys - extract indices\n",
    "value = [distance_index[i] for i in closest_distance]\n",
    "print(\"the corresponding indices of the closest numbers :\", value)\n",
    "\n",
    "# create the list of two closest numbers using indices\n",
    "print(\"Two closest numbers from the target {target} :\",[nums[i] for i in value])"
   ]
  },
  {
   "cell_type": "code",
   "execution_count": 124,
   "id": "cdd4c860",
   "metadata": {},
   "outputs": [
    {
     "data": {
      "text/plain": [
       "[10, 7]"
      ]
     },
     "execution_count": 124,
     "metadata": {},
     "output_type": "execute_result"
    }
   ],
   "source": [
    "def closest_element(nums, target):\n",
    "    \n",
    "    # Calculate differences - key and store indices - value\n",
    "    dict1 = {abs(target - num): ind for ind, num in enumerate(nums)}\n",
    "    \n",
    "    sorted_dist = sorted(dict1)             # Sort the dictionary based on key - i.e. distance\n",
    "    \n",
    "    two_dist = sorted_dist[:2]              # takes only 2 values for distance\n",
    "    \n",
    "    index = [dict1[i] for i in two_dist]    # take corresponding index of first 2 distance values\n",
    "    \n",
    "    return([nums[i] for i in index])        # returns the 2 closest elements\n",
    "\n",
    "nums = [1, 4, 7, 10, 15]\n",
    "target = 9\n",
    "closest_element(nums, target)"
   ]
  },
  {
   "cell_type": "code",
   "execution_count": 125,
   "id": "51ed17f5",
   "metadata": {},
   "outputs": [
    {
     "name": "stdout",
     "output_type": "stream",
     "text": [
      "(Distance ,index) pair : [(8, 0), (5, 1), (2, 2), (1, 3), (6, 4)]\n",
      "Sorted list based on distance : [(1, 3), (2, 2), (5, 1), (6, 4), (8, 0)]\n",
      "Index of the closest elements : [3, 2]\n"
     ]
    },
    {
     "data": {
      "text/plain": [
       "[10, 7]"
      ]
     },
     "execution_count": 125,
     "metadata": {},
     "output_type": "execute_result"
    }
   ],
   "source": [
    "def closest_element(nums, target):\n",
    "    \n",
    "    # store distance and index\n",
    "    list1 = [(abs(target - num), i) for i, num in enumerate(nums)]\n",
    "    print(\"(Distance ,index) pair :\", list1)\n",
    "    \n",
    "    list1.sort()                              # sort the distance\n",
    "    print(\"Sorted list based on distance :\", list1)\n",
    "    \n",
    "    index = [list1[0][1], list1[1][1]]        # taking first two indices of sorting\n",
    "    print(\"Index of the closest elements :\", index)\n",
    "    \n",
    "    return([nums[i] for i in index])          # return the actual number from the exctracted index\n",
    "\n",
    "nums = [1, 4, 7, 10, 15]\n",
    "target = 9\n",
    "closest_element(nums, target)\n",
    "\n"
   ]
  },
  {
   "cell_type": "code",
   "execution_count": null,
   "id": "dcbc9e8d",
   "metadata": {},
   "outputs": [],
   "source": []
  },
  {
   "cell_type": "markdown",
   "id": "5d26a882-35b4-462f-9ffe-821f9392b168",
   "metadata": {},
   "source": [
    "**Question 3. Find First Element That is a Multiple of Target**\n",
    "\n",
    "Find the first element in the list that is a multiple of the target.\n",
    "\n"
   ]
  },
  {
   "cell_type": "code",
   "execution_count": 120,
   "id": "6d0552db-885a-4d8b-8220-e9f34ecf1def",
   "metadata": {},
   "outputs": [
    {
     "data": {
      "text/plain": [
       "12"
      ]
     },
     "execution_count": 120,
     "metadata": {},
     "output_type": "execute_result"
    }
   ],
   "source": [
    "def multiple_of_target(nums, target):\n",
    "    \n",
    "    for num in nums:                   # take each value from the list\n",
    "        if num % 4 == 0:               # checks if each value is divisible by 4\n",
    "            return num                 # if the condition is met, returns the first element\n",
    "    return -1                          \n",
    "       \n",
    "nums = [2, 5, 9, 12, 16]\n",
    "target = 4\n",
    "multiple_of_target(nums, target)\n",
    "\n",
    "#Output: 12 (first multiple of 4)"
   ]
  },
  {
   "cell_type": "code",
   "execution_count": null,
   "id": "508b6038",
   "metadata": {},
   "outputs": [],
   "source": []
  },
  {
   "cell_type": "markdown",
   "id": "7661585f-97fc-4597-b1ec-4c0894104fdd",
   "metadata": {},
   "source": [
    "**Question 4. Find Element Whose Value Equals Its Index**\n",
    "\n",
    "Find an element whose value is equal to its index.\n"
   ]
  },
  {
   "cell_type": "code",
   "execution_count": 121,
   "id": "2b674c8e-532c-45b0-8891-6db3994f53f7",
   "metadata": {},
   "outputs": [
    {
     "name": "stdout",
     "output_type": "stream",
     "text": [
      "The element and index are same for : 2\n"
     ]
    }
   ],
   "source": [
    "def value_equals_index(nums):\n",
    "    \n",
    "    # create a dictionary with number as key and index as its value\n",
    "    dict2 = {ind : num for ind, num in enumerate(nums)}\n",
    "    \n",
    "    for i in range(len(dict2)):         # takes the loop value from from 0 to (length-1)\n",
    "        if dict2[i] == i:               # if index is same as element\n",
    "            return (dict2[i])           # return the element or index\n",
    "    return -1   \n",
    "        \n",
    "nums = [-3, 0, 2, 4, 5]\n",
    "output = value_equals_index(nums)\n",
    "print(\"The element and index are same for :\" , output)\n",
    "# Output: 2 (element 2 is at index 2)"
   ]
  },
  {
   "cell_type": "code",
   "execution_count": null,
   "id": "61bba476",
   "metadata": {},
   "outputs": [],
   "source": []
  },
  {
   "cell_type": "markdown",
   "id": "85e253e6-436e-4b89-9e67-8753e7808cda",
   "metadata": {},
   "source": [
    "**Question 5. Count Elements Greater than All Previous Ones**\n",
    "\n",
    "Count how many elements are greater than all the previous elements.\n"
   ]
  },
  {
   "cell_type": "markdown",
   "id": "72a66c6d",
   "metadata": {},
   "source": [
    "I'll start by creating a dummy variable max_till_now = 2 and a count = 1, since 2 is greater than all the numbers we've seen so far (starting from the first element).\n",
    "\n",
    "Now, I will start iterating through the list:\n",
    "\n",
    "- When I reach 4, the maximum encountered is 2.\n",
    "    - Since 4 is greater than 2, \n",
    "    - I’ll increase my count to 2 and \n",
    "    - update max_till_now to 4.\n",
    "\n",
    "- Next, when I reach 3, the maximum till now is 4. \n",
    "    - Since 3 is not greater than 4, \n",
    "    - I won’t increase the count, and \n",
    "    - max_till_now remains 4.\n",
    "\n",
    "- Now, when I reach 5, the maximum till now is 4. \n",
    "    - Since 5 is greater than 4, \n",
    "    - I’ll increment my count to 3 and \n",
    "    - update max_till_now to 5.\n",
    "\n",
    "- Finally, when I reach 8, the maximum till now is 5. \n",
    "    - Since 8 is greater than 5, \n",
    "    - I’ll increase my count to 4 and \n",
    "    - update max_till_now to 8.\n",
    "\n",
    "- When I reach 7, since 7 is not greater than 8, \n",
    "    - I won’t increment the count.\n",
    "\n"
   ]
  },
  {
   "cell_type": "code",
   "execution_count": 32,
   "id": "50d952a8",
   "metadata": {},
   "outputs": [
    {
     "name": "stdout",
     "output_type": "stream",
     "text": [
      "Number of elements greater than all previous ones: 4\n"
     ]
    }
   ],
   "source": [
    "def count_elements_greater_than_all_previous(arr):\n",
    "    if len(arr) == 0:\n",
    "        return 0  # Handle empty list case\n",
    "\n",
    "    # Initialize the max till now and count\n",
    "    max_till_now = arr[0]  # Starting from the first element\n",
    "    count = 1  # First element is always considered, so start count at 1\n",
    "\n",
    "    # Iterate over the array starting from the second element\n",
    "    for num in arr[1:]:\n",
    "        if num > max_till_now:\n",
    "            count += 1          # increase the count if condition satisfied\n",
    "            max_till_now = num  # Update max_till_now if current number is greater\n",
    "\n",
    "    return count\n",
    "\n",
    "# Example usage\n",
    "arr = [2, 4, 3, 5, 1, 8, 7]\n",
    "result = count_elements_greater_than_all_previous(arr)\n",
    "print(f\"Number of elements greater than all previous ones: {result}\")\n"
   ]
  },
  {
   "cell_type": "code",
   "execution_count": 34,
   "id": "76a5a589-2a86-4196-8b85-49780a20ffa7",
   "metadata": {},
   "outputs": [
    {
     "name": "stdout",
     "output_type": "stream",
     "text": [
      "There are 3 elements in total for [4, 5, 8]\n"
     ]
    }
   ],
   "source": [
    "def greater_than_previous(nums):\n",
    "    \n",
    "    target = nums[0]                           # take a maximum value\n",
    "    result = []                                # take an empty list to add greater numbers found\n",
    "    for num in nums:                            # take each value from the list\n",
    "        if num > target:                        # if element is greater than minimum value\n",
    "            result.append(num)                 # then append the greater number\n",
    "            target = num                      # assign the greater number to maximum \n",
    "  \n",
    "    return result                              # return the appended list\n",
    "            \n",
    "nums = [2, 4, 3, 5, 8, 7]\n",
    "output = greater_than_previous(nums)\n",
    "print(f\"There are {len(output)} elements in total for {output}\")\n",
    "\n",
    "#Output: 4 (elements are [2, 4, 5, 8])"
   ]
  },
  {
   "cell_type": "code",
   "execution_count": null,
   "id": "e82afa8b",
   "metadata": {},
   "outputs": [],
   "source": []
  },
  {
   "cell_type": "markdown",
   "id": "edc19d39-c6e3-4240-af99-6f5099601a66",
   "metadata": {},
   "source": [
    "**Question 6. Find the Minimum Element Greater than a Threshold**\n",
    "\n",
    "Find the smallest element in the list that is greater than a given threshold t.\n"
   ]
  },
  {
   "cell_type": "markdown",
   "id": "f2d82a7c",
   "metadata": {},
   "source": [
    "First, we need to create a list of elements that are greater than a specified number. \n",
    "- You can initialize an empty list called rest. \n",
    "- For each number in your input, if it's greater than the specified threshold, \n",
    "    - you will append it to the rest list. \n",
    "\n",
    "After that, you can print the rest list, which now contains the numbers greater than your threshold.\n",
    "\n",
    "Next, we need to find the minimum value from this list.\n",
    "\n",
    "To do this, you can create a variable, \n",
    "- let's call it minimum, and \n",
    "- initialize it to a very large number, like 1000 or even infinity. \n",
    "- As you iterate through the list, \n",
    "    - if a number is less than minimum,\n",
    "    - you update minimum to that number.\n",
    "\n",
    "For example, \n",
    "- if your current minimum is 1000 and \n",
    "- you check the first number, say 20, \n",
    "    - since 20 is less than 1000, \n",
    "    - you update minimum to 20. \n",
    "    - Then, if you check the next number, 15, \n",
    "    - since 15 is less than 20, you update minimum again to 15.\n",
    "\n",
    "If the next number is 30, since it's greater than 15, your minimum will remain 15."
   ]
  },
  {
   "cell_type": "code",
   "execution_count": 6,
   "id": "3f94fde7",
   "metadata": {},
   "outputs": [
    {
     "name": "stdout",
     "output_type": "stream",
     "text": [
      "A list greater than a given threshold t [20, 15, 30]\n"
     ]
    },
    {
     "data": {
      "text/plain": [
       "15"
      ]
     },
     "execution_count": 6,
     "metadata": {},
     "output_type": "execute_result"
    }
   ],
   "source": [
    "def min_threshold(nums, t):\n",
    "    \n",
    "    thresh = []\n",
    "    for i in range(len(nums)):\n",
    "        if nums[i] > t:\n",
    "            thresh.append(nums[i])\n",
    "    print(f\"A list greater than a given threshold t {thresh}\")\n",
    " \n",
    "    # find the minimum element out of the list \n",
    "    minimum = 1000         # assume minimum to be a very high number\n",
    "    for num in thresh:\n",
    "        if num < minimum:\n",
    "            minimum = num\n",
    "    return minimum\n",
    "\n",
    "# usage\n",
    "nums = [10, 20, 5, 15, 30]\n",
    "t = 12\n",
    "min_threshold(nums,t)\n",
    "\n",
    "#Output: 15"
   ]
  },
  {
   "cell_type": "markdown",
   "id": "f16d85a2",
   "metadata": {},
   "source": [
    "**TC - O(n)**"
   ]
  },
  {
   "cell_type": "markdown",
   "id": "83293760",
   "metadata": {},
   "source": [
    "**Brute force method - O(n log n)**"
   ]
  },
  {
   "cell_type": "code",
   "execution_count": 127,
   "id": "e802977a-2fa8-4810-8516-49624f2f7afd",
   "metadata": {},
   "outputs": [
    {
     "data": {
      "text/plain": [
       "15"
      ]
     },
     "execution_count": 127,
     "metadata": {},
     "output_type": "execute_result"
    }
   ],
   "source": [
    "def minimum_threshold(nums,t):\n",
    "    \n",
    "    # create a dictionary with difference as key and index as its value\n",
    "    dict3 = {(num - t) : ind for ind, num in enumerate(nums)}\n",
    "    \n",
    "    dict3_sorted = sorted(dict3)            # sort the key 'distance' in ascending order - creates a list\n",
    "    \n",
    "    for i in dict3_sorted:                  # picks each value of distance from list\n",
    "        if i < 0:                           # if distance is negative\n",
    "            pass                            # do not do anything\n",
    "        else:\n",
    "            min_dist = i                    # if distance is positive, it takes the first distance\n",
    "            break                           # break the condition after finding the first distance\n",
    "    \n",
    "    index = dict3[min_dist]                 # take index of particular index from dictionary\n",
    "    return nums[index]                      # return the element of that corresponding index\n",
    "    \n",
    "nums = [10, 20, 5, 15, 30]\n",
    "t = 12\n",
    "minimum_threshold(nums,t)\n",
    "\n",
    "#Output: 15"
   ]
  },
  {
   "cell_type": "markdown",
   "id": "06365f17",
   "metadata": {},
   "source": [
    "- We use item[0] to sort by keys \n",
    "- Item[1] to sort by values\n",
    "- sorted_freq=dict(sorted(freq.items(),key=lambda  item:item[1]))\n",
    "\n"
   ]
  },
  {
   "cell_type": "code",
   "execution_count": 14,
   "id": "c5377ecc",
   "metadata": {},
   "outputs": [
    {
     "name": "stdout",
     "output_type": "stream",
     "text": [
      "Differences: {10: 20, 20: 10, 5: 25, 15: 15, 30: 0}\n",
      "Sorted Differences: {30: 0, 20: 10, 15: 15, 10: 20, 5: 25}\n",
      "Closest number to target: 30\n"
     ]
    }
   ],
   "source": [
    "def minimum_threshold(nums, target):\n",
    "    # Dictionary to store the absolute difference between num and target\n",
    "    freq = {}\n",
    "    \n",
    "    # Calculate the difference for each number in nums\n",
    "    for num in nums:\n",
    "        diff = abs(num - target)\n",
    "        freq[num] = diff\n",
    "    \n",
    "    # Print the dictionary with absolute differences\n",
    "    print(\"Differences:\", freq)\n",
    "    \n",
    "    # Sort the dictionary by the absolute difference (smallest difference first)\n",
    "    sorted_freq = dict(sorted(freq.items(), key=lambda item: item[1]))\n",
    "    \n",
    "    # Print the sorted dictionary\n",
    "    print(\"Sorted Differences:\", sorted_freq)\n",
    "    \n",
    "    # Return the closest number to the target\n",
    "    closest_num = next(iter(sorted_freq))  # Get the key of the first item\n",
    "    return closest_num\n",
    "\n",
    "nums = [10, 10, 20, 5, 5, 5, 5, 15, 15, 15, 30, 30, 30, 30]\n",
    "target = 30\n",
    "result = minimum_threshold(nums, target)\n",
    "print(\"Closest number to target:\", result)\n",
    "s"
   ]
  },
  {
   "cell_type": "markdown",
   "id": "28c6d6c7",
   "metadata": {},
   "source": [
    "- iter(sorted_freq): \n",
    "    - This creates something called an \"iterator\" over the dictionary. \n",
    "\n",
    "    - An iterator is like a pointer that allows you to go through the elements in the dictionary one by one. \n",
    "\n",
    "    - In a dictionary, by default, the iterator goes through the keys (which are your numbers).\n",
    "\n",
    "- next(iter(sorted_freq)): \n",
    "    - This gets the first key from the dictionary (since it’s sorted, \n",
    "    - the first key is the number that has the smallest difference with the target). \n",
    "\n",
    "- Essentially, it's grabbing the closest number."
   ]
  },
  {
   "cell_type": "code",
   "execution_count": null,
   "id": "5f039349",
   "metadata": {},
   "outputs": [],
   "source": []
  },
  {
   "cell_type": "markdown",
   "id": "f33b8357-5a54-4d1a-955f-ce8ff7a5a043",
   "metadata": {},
   "source": [
    "**Question 7. Find Elements within a Given Range [a, b]**\n",
    "\n",
    "Find all elements in the list that lie within the range [a, b].\n"
   ]
  },
  {
   "cell_type": "code",
   "execution_count": 128,
   "id": "a6496b46-1022-4bf4-a158-016ef0027d33",
   "metadata": {},
   "outputs": [
    {
     "data": {
      "text/plain": [
       "[5, 8, 7]"
      ]
     },
     "execution_count": 128,
     "metadata": {},
     "output_type": "execute_result"
    }
   ],
   "source": [
    "def elements_range(nums, a, b):\n",
    "    \n",
    "    elements = []                      # take an empty list to add the elements\n",
    "    for num in nums:                   # picks each value from list\n",
    "        if num >= a and num <= b:      # if the number exists between the range\n",
    "            elements.append(num)       # append the elements\n",
    "            \n",
    "    return elements                    # return the list\n",
    "    \n",
    "    \n",
    "nums = [5, 3, 8, 10, 2, 7]\n",
    "a = 4\n",
    "b = 8\n",
    "elements_range(nums, a, b)\n",
    "#Output: [5, 8, 7]"
   ]
  },
  {
   "cell_type": "code",
   "execution_count": null,
   "id": "bfc7cfdd",
   "metadata": {},
   "outputs": [],
   "source": []
  },
  {
   "cell_type": "markdown",
   "id": "06a202be-afd1-4a63-8244-b86244b16bf4",
   "metadata": {},
   "source": [
    "**Question 8. Find the First Repeated Element**\n",
    "\n",
    "Find the first element that repeats in the list.\n"
   ]
  },
  {
   "cell_type": "markdown",
   "id": "bae116ab",
   "metadata": {},
   "source": [
    "Here is a summary of the steps in the code:\n",
    "\n",
    "Create a dictionary to store elements and their frequencies.\n",
    "\n",
    "For each element in the list:\n",
    "- If the element is not in the dictionary, add it with a frequency of 1.\n",
    "- If the element is already in the dictionary, increase its frequency by 1.\n",
    "- Finally, return the first element that repeats, which in this case is \"2\".\n",
    "\n",
    "Now let's begin coding. \n",
    "- First, we need to create the dictionary. \n",
    "- For each element in the list, if it's not already in the dictionary, we add it with a frequency of 1. \n",
    "- If it's already present, we increment its frequency. \n",
    "- For example, if the list is [5, 1, 2, 3, 3, 2], the dictionary would be:"
   ]
  },
  {
   "cell_type": "code",
   "execution_count": 9,
   "id": "cc0fc5ec",
   "metadata": {},
   "outputs": [
    {
     "name": "stdout",
     "output_type": "stream",
     "text": [
      "The first repeated element is: 2\n"
     ]
    }
   ],
   "source": [
    "def first_repeated(nums):\n",
    "    \n",
    "    freq = {}\n",
    "    for i in range(len(nums)):\n",
    "        if nums[i] in freq:\n",
    "            freq[nums[i]] += 1\n",
    "        else:\n",
    "            freq[nums[i]] = 1\n",
    "            \n",
    "    if freq[nums[i]] > 1:\n",
    "        return nums[i]\n",
    "    \n",
    "    \n",
    "nums = [5, 1, 2, 3, 3, 2]\n",
    "print(f\"The first repeated element is: {first_repeated(nums)}\")\n"
   ]
  },
  {
   "cell_type": "code",
   "execution_count": 8,
   "id": "d1517674",
   "metadata": {},
   "outputs": [
    {
     "name": "stdout",
     "output_type": "stream",
     "text": [
      "The first repeated element is: 2\n"
     ]
    }
   ],
   "source": [
    "def find_first_repeated(nums):\n",
    "    # Step 1: Create a dictionary to store the frequency of each element\n",
    "    frequency = {}\n",
    "\n",
    "    # Step 2: Iterate through the list to build the frequency dictionary\n",
    "    for num in nums:\n",
    "        if num in frequency:     # checks the key value\n",
    "            frequency[num] += 1  # Increment the frequency if the element is already in the dictionary\n",
    "        else:\n",
    "            frequency[num] = 1  # Add new element to the dictionary with frequency 1\n",
    "\n",
    "    # Step 3: Iterate through the list again to find the first repeated element\n",
    "    for num in nums:\n",
    "        if frequency[num] > 1:  # If an element has a frequency greater than 1, it's the first repeated\n",
    "            return num\n",
    "\n",
    "    return None  # If no repeated element is found\n",
    "\n",
    "# Test the function with an example list\n",
    "nums = [5, 1, 2, 3, 3, 2]\n",
    "first_repeated = find_first_repeated(nums)\n",
    "print(f\"The first repeated element is: {first_repeated}\")\n"
   ]
  },
  {
   "cell_type": "markdown",
   "id": "d40a0cf1",
   "metadata": {},
   "source": [
    "**TC - O(n)**"
   ]
  },
  {
   "cell_type": "markdown",
   "id": "aace8feb",
   "metadata": {},
   "source": [
    "**Brute force approach - O(n^2)**"
   ]
  },
  {
   "cell_type": "code",
   "execution_count": 163,
   "id": "f9dd4138-a35d-4957-943a-211b519b69fb",
   "metadata": {},
   "outputs": [
    {
     "name": "stdout",
     "output_type": "stream",
     "text": [
      "2\n"
     ]
    }
   ],
   "source": [
    "def first_repeat(nums):\n",
    "   \n",
    "    for i in range(len(nums)):               # takes the outer loop from to length            \n",
    "        for j in range(i+1, len(nums)):      # takes the value of inner vaue to the next value of outer loop\n",
    "            if nums[i] == nums[j]:           # if one value checks with the rest of the value of list and found\n",
    "                return nums[i]               # return the element\n",
    "               \n",
    "# usage\n",
    "nums = [5, 1, 2, 3, 3, 2]\n",
    "print(first_repeat(nums))  # Output: 2 (index of the first repeated element '5')\n"
   ]
  },
  {
   "cell_type": "code",
   "execution_count": null,
   "id": "1ce3fa62",
   "metadata": {},
   "outputs": [],
   "source": []
  },
  {
   "cell_type": "markdown",
   "id": "c6eacbfe-822a-47a2-a767-aea6b7f8f99c",
   "metadata": {},
   "source": [
    "**Question 9. Find the k-th Smallest Element Using Linear Search**\n",
    "\n",
    "Using linear search, find the k-th smallest element without sorting the list.\n"
   ]
  },
  {
   "cell_type": "code",
   "execution_count": 1,
   "id": "7a8448c9",
   "metadata": {},
   "outputs": [],
   "source": [
    "# 1. sort it \n",
    "# 2. slice it\n",
    "# 3. take the last element\n",
    "\n",
    "# TC - O(n log n)"
   ]
  },
  {
   "cell_type": "code",
   "execution_count": 2,
   "id": "031d142a",
   "metadata": {},
   "outputs": [
    {
     "name": "stdout",
     "output_type": "stream",
     "text": [
      "3\n"
     ]
    }
   ],
   "source": [
    "def k_smallest_element(nums, k):\n",
    "    \n",
    "    for i in range(k):\n",
    "        \n",
    "        minimum = min(nums)   # Find the minimum element in the current list\n",
    "        nums.remove(minimum)  # Remove the minimum element from the list\n",
    "           \n",
    "    return minimum            # The k-th minimum element \n",
    "\n",
    "# usage\n",
    "nums = [5, 3, 1, 6, 4, 2]\n",
    "k = 3\n",
    "print(k_smallest_element(nums, k)) \n",
    "\n",
    "# Output: 3 (3rd smallest element)"
   ]
  },
  {
   "cell_type": "code",
   "execution_count": null,
   "id": "9171176d",
   "metadata": {},
   "outputs": [],
   "source": []
  },
  {
   "cell_type": "markdown",
   "id": "ed0d1546-ce7b-466c-a07f-748861e1904f",
   "metadata": {},
   "source": [
    "**Question 10. Find the Index of an Element Greater than k and Minimum Difference**\n",
    "\n",
    "Find the index of the first element that is greater than k and has the minimum difference with k.\n",
    "    \n"
   ]
  },
  {
   "cell_type": "code",
   "execution_count": 149,
   "id": "126d3566-def3-445b-9b62-845c5bfcbea3",
   "metadata": {},
   "outputs": [
    {
     "data": {
      "text/plain": [
       "5"
      ]
     },
     "execution_count": 149,
     "metadata": {},
     "output_type": "execute_result"
    }
   ],
   "source": [
    "def greater_than_k(nums, k):\n",
    "    \n",
    "    # Assuming the input list is sorted\n",
    "    for num in nums:                 # take each element one by one from list\n",
    "        if num > k:                  # if the particular number is greater than k\n",
    "            ind = nums.index(num)    # find the index of the particular number\n",
    "            break                    # break out of condition when the first greater number is found\n",
    "    return nums[ind]                 # return the closest element   \n",
    "\n",
    "nums = [1, 3, 5, 7, 9]\n",
    "k = 4\n",
    "greater_than_k(nums, k)\n",
    "#Output: 2 (element 5 is greater than 4 with minimum difference)"
   ]
  },
  {
   "cell_type": "markdown",
   "id": "ed9333be",
   "metadata": {},
   "source": [
    "Identifying elements in a list that are greater than a given value \\( K \\) (in this case 4) and calculating the minimum difference between those elements and \\( K \\). Let me break it down step-by-step:\n",
    "\n",
    "1. **Input List**: You have a list `[1, 3, 5, 7, 9, 13]`.\n",
    "   \n",
    "2. **Target \\( K \\)**: The problem specifies \\( K = 4 \\).\n",
    "\n",
    "3. **Filter Elements**: First, you need to filter out the elements in the list that are greater than \\( K \\). In this case, elements greater than 4 are `[5, 7, 9, 13]`.\n",
    "\n",
    "4. **Find Minimum Difference**:\n",
    "    - For each of these elements greater than \\( K \\), compute the difference with \\( K \\). In this case:\n",
    "      \\[\n",
    "      |5 - 4| = 1, \\quad |7 - 4| = 3, \\quad |9 - 4| = 5, \\quad |13 - 4| = 9\n",
    "      \\]\n",
    "    - The smallest difference is \\( 1 \\), and the corresponding element is 5.\n",
    "\n",
    "5. **Returning the Result**: Since the element 5 has the minimum difference with \\( K \\), you return 5 (or its index, depending on the requirements).\n"
   ]
  },
  {
   "cell_type": "code",
   "execution_count": 3,
   "id": "d2d5e6fd",
   "metadata": {},
   "outputs": [
    {
     "name": "stdout",
     "output_type": "stream",
     "text": [
      "The element with the minimum difference is: 5\n"
     ]
    }
   ],
   "source": [
    "# Given list and target K\n",
    "lst = [1, 3, 7, 9, 13, 5]\n",
    "K = 4\n",
    "\n",
    "# Filter elements greater than K\n",
    "greater_than_K = [x for x in lst if x > K]\n",
    "\n",
    "# Initialize variables for minimum difference\n",
    "min_diff = float('inf')\n",
    "min_element = None\n",
    "\n",
    "# Iterate over the filtered list to find the minimum difference\n",
    "for num in greater_than_K:\n",
    "    diff = num - K  # since we only consider values greater than K, no need for absolute value\n",
    "    if diff < min_diff:\n",
    "        min_diff = diff\n",
    "        min_element = num\n",
    "\n",
    "# Output the result\n",
    "print(f\"The element with the minimum difference is: {min_element}\")\n"
   ]
  },
  {
   "cell_type": "code",
   "execution_count": 2,
   "id": "5e29edd6",
   "metadata": {},
   "outputs": [
    {
     "data": {
      "text/plain": [
       "5"
      ]
     },
     "execution_count": 2,
     "metadata": {},
     "output_type": "execute_result"
    }
   ],
   "source": [
    "def thresh(nums, k):\n",
    "    \n",
    "    greater = [num for num in nums if num > k]\n",
    "    \n",
    "    min_diff = float('inf')\n",
    "    min_val = None\n",
    "    \n",
    "    for val in greater:\n",
    "        difference = val - k\n",
    "        if difference < min_diff:\n",
    "            min_val = val\n",
    "            main_diff = difference\n",
    "            \n",
    "    return min_val\n",
    "\n",
    "\n",
    "nums = [1, 3, 7, 9, 5]\n",
    "k = 4\n",
    "thresh(nums, k)\n",
    "#Output: 2 (element 5 is greater than 4 with minimum difference)"
   ]
  },
  {
   "cell_type": "code",
   "execution_count": null,
   "id": "a05d0f65",
   "metadata": {},
   "outputs": [],
   "source": []
  },
  {
   "cell_type": "code",
   "execution_count": null,
   "id": "774ad19c",
   "metadata": {},
   "outputs": [],
   "source": []
  }
 ],
 "metadata": {
  "kernelspec": {
   "display_name": "Python 3 (ipykernel)",
   "language": "python",
   "name": "python3"
  },
  "language_info": {
   "codemirror_mode": {
    "name": "ipython",
    "version": 3
   },
   "file_extension": ".py",
   "mimetype": "text/x-python",
   "name": "python",
   "nbconvert_exporter": "python",
   "pygments_lexer": "ipython3",
   "version": "3.10.9"
  }
 },
 "nbformat": 4,
 "nbformat_minor": 5
}
