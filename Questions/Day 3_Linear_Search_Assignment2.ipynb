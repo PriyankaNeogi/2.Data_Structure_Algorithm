{
 "cells": [
  {
   "cell_type": "markdown",
   "id": "3f4ad641",
   "metadata": {},
   "source": [
    "# Linear Search 2"
   ]
  },
  {
   "cell_type": "markdown",
   "id": "6f6c320b-95f0-4617-88d9-b31b1a9d651f",
   "metadata": {},
   "source": [
    "**Question 1: Check for Duplicates**\n",
    "\n",
    "**Problem:**\n",
    "\n",
    "Implement a function that returns True if there are duplicates in a list; otherwise, return False.\n",
    "\n",
    "**Test Cases:**"
   ]
  },
  {
   "cell_type": "code",
   "execution_count": 144,
   "id": "cd514134",
   "metadata": {},
   "outputs": [
    {
     "name": "stdout",
     "output_type": "stream",
     "text": [
      "True\n",
      "False\n",
      "False\n"
     ]
    }
   ],
   "source": [
    "def has_duplicates(lst):  \n",
    "    freq = {}                  # take an empty dictionary - key(number) : value(frequency)\n",
    "    for num in lst:            # take every elements from the list\n",
    "        if num in freq:        # if the element is present in the dictionary\n",
    "            freq[num] += 1     # add the count\n",
    "        else:\n",
    "            freq[num] = 1      # if appears for the first time - add frequency 1\n",
    "    \n",
    "    # Check if any number has a frequency greater than 1\n",
    "    for num in freq:\n",
    "        if freq[num] > 1:\n",
    "            return True       # return True - if the elements are repeated\n",
    "    return False              # return False - if elements are not repeated\n",
    "\n",
    "# Test cases\n",
    "print(has_duplicates([1, 2, 3, 2]))  # Expected Output: True\n",
    "print(has_duplicates([1, 2, 3, 4]))  # Expected Output: False\n",
    "print(has_duplicates([]))            # Expected Output: False\n"
   ]
  },
  {
   "cell_type": "code",
   "execution_count": 1,
   "id": "c8b032c8",
   "metadata": {},
   "outputs": [
    {
     "name": "stdout",
     "output_type": "stream",
     "text": [
      "True\n",
      "False\n",
      "False\n"
     ]
    }
   ],
   "source": [
    "def has_duplicates(lst):\n",
    "    \n",
    "    duplicate = []\n",
    "    count = 0\n",
    "    for num in lst:\n",
    "        if num in duplicate:\n",
    "            count += 1\n",
    "        else:\n",
    "            duplicate.append(num)\n",
    "            \n",
    "    if count:\n",
    "        return True\n",
    "    return False\n",
    "            \n",
    "        \n",
    "            \n",
    "\n",
    " # Test cases\n",
    "print(has_duplicates([1, 2, 3, 2]))  # Expected Output: True\n",
    "print(has_duplicates([1, 2, 3, 4]))  # Expected Output: False\n",
    "print(has_duplicates([]))            # Expected Output: False\n"
   ]
  },
  {
   "cell_type": "code",
   "execution_count": null,
   "id": "05c92e4a",
   "metadata": {},
   "outputs": [],
   "source": []
  },
  {
   "cell_type": "markdown",
   "id": "355ce1f0-f98a-4aba-9370-7dc495349626",
   "metadata": {},
   "source": [
    "**Question 2: Count Occurrences of a Target**\n",
    "\n",
    "**Problem:**\n",
    "\n",
    "Write a function to count how many times a target element appears in a list.\n",
    "\n",
    "**Test Cases:**"
   ]
  },
  {
   "cell_type": "code",
   "execution_count": 146,
   "id": "51d00f72",
   "metadata": {},
   "outputs": [
    {
     "name": "stdout",
     "output_type": "stream",
     "text": [
      "3\n",
      "0\n",
      "0\n"
     ]
    }
   ],
   "source": [
    "def count_occurrences(lst1, target):\n",
    "    \n",
    "    freq1 = {}               # create an empty dictionary - key(element), value(frequencies)\n",
    "    for num in lst1:         # take each elemnets from the list\n",
    "        if num in freq1:     # if the element is already present in the dictionary\n",
    "            freq1[num] += 1  # then add frequency if element is already present\n",
    "        else:\n",
    "            freq1[num] = 1   # if element is not present add the element \n",
    "            \n",
    "    for num in freq1:        # go through dictionary element wise\n",
    "        if num == target:    # if element is equal to target then return the frequencies(value)\n",
    "            return freq1[num]\n",
    "    return 0    # outside for loop to check the entire dictionary\n",
    "    \n",
    "# test cases\n",
    "print(count_occurrences([1, 2, 2, 3, 2], 2))\n",
    "print(count_occurrences([1, 2, 3], 5))\n",
    "print(count_occurrences([], 2))"
   ]
  },
  {
   "cell_type": "code",
   "execution_count": 137,
   "id": "95450642",
   "metadata": {},
   "outputs": [
    {
     "name": "stdout",
     "output_type": "stream",
     "text": [
      "3\n",
      "0\n",
      "0\n"
     ]
    }
   ],
   "source": [
    "def count_occurrences(lst1, target):\n",
    "    count = 0\n",
    "    for num in lst1:\n",
    "        if num == target:\n",
    "            count += 1\n",
    "    return count\n",
    "    \n",
    "    \n",
    "    \n",
    "# test cases\n",
    "print(count_occurrences([1, 2, 2, 3, 2], 2))\n",
    "print(count_occurrences([1, 2, 3], 5))\n",
    "print(count_occurrences([], 2))"
   ]
  },
  {
   "cell_type": "code",
   "execution_count": 127,
   "id": "ab70cf73",
   "metadata": {},
   "outputs": [
    {
     "name": "stdout",
     "output_type": "stream",
     "text": [
      "3\n",
      "0\n",
      "0\n"
     ]
    }
   ],
   "source": [
    "def count_occurrences(nums,target):\n",
    "    freq={}\n",
    "    for num in nums:\n",
    "        if num in freq:\n",
    "            freq[num]+=1\n",
    "        else:\n",
    "            freq[num]=1\n",
    "    return freq.get(target,0)\n",
    "\n",
    "# test cases\n",
    "print(count_occurrences([1, 2, 2, 3, 2], 2))\n",
    "print(count_occurrences([1, 2, 3], 5))\n",
    "print(count_occurrences([], 2))"
   ]
  },
  {
   "cell_type": "code",
   "execution_count": null,
   "id": "1bfbd4c7",
   "metadata": {},
   "outputs": [],
   "source": []
  },
  {
   "cell_type": "markdown",
   "id": "b6212325-56b3-4ef4-866d-0038297f790a",
   "metadata": {},
   "source": [
    "**Question 3: Search in a List of Tuples**\n",
    "\n",
    "**Problem:**\n",
    "\n",
    "Search for a specific value in a list of tuples. If found, return the index of the tuple containing it; otherwise, return -1.\n",
    "\n",
    "**Test Cases:**"
   ]
  },
  {
   "cell_type": "code",
   "execution_count": 149,
   "id": "483c1f7b",
   "metadata": {},
   "outputs": [
    {
     "name": "stdout",
     "output_type": "stream",
     "text": [
      "1\n",
      "-1\n"
     ]
    }
   ],
   "source": [
    "def search_in_tuples(lst2, target2):\n",
    "    \n",
    "    i = 0                          # take the loop count as '0'    \n",
    "    for tuples in lst2:      \n",
    "        \n",
    "        if target2 in tuples:\n",
    "            return i               # returns index of the list element - first occurence of the target\n",
    "        i += 1                     # increase the count of the loop\n",
    "    return -1\n",
    " \n",
    "# cases\n",
    "print(search_in_tuples([(1, 2), (3, 4)], 3))  # Expected Output: 1\n",
    "print(search_in_tuples([(1, 2), (5, 6)], 7))  # Expected Output: -1"
   ]
  },
  {
   "cell_type": "code",
   "execution_count": 48,
   "id": "2a5bc334",
   "metadata": {},
   "outputs": [
    {
     "name": "stdout",
     "output_type": "stream",
     "text": [
      "1\n",
      "-1\n"
     ]
    }
   ],
   "source": [
    "def search_in_tuples(lst2, target2):\n",
    "    \n",
    "    for index, tuples in enumerate(lst2):\n",
    "        \n",
    "        if target2 in tuples:\n",
    "            return index\n",
    "    return -1\n",
    " \n",
    "# cases\n",
    "print(search_in_tuples([(1, 2), (3, 4)], 3))  # Expected Output: 1\n",
    "print(search_in_tuples([(1, 2), (5, 6)], 7))  # Expected Output: -1"
   ]
  },
  {
   "cell_type": "code",
   "execution_count": 132,
   "id": "5c96ba51",
   "metadata": {},
   "outputs": [
    {
     "name": "stdout",
     "output_type": "stream",
     "text": [
      "-1\n",
      "-1\n"
     ]
    }
   ],
   "source": [
    "def search_in_tuples(nums,target):\n",
    "    for i,j in nums:\n",
    "        if i==target or j==target:\n",
    "            index=nums.index((i,j))\n",
    "            return index\n",
    "        else:\n",
    "            return -1\n",
    "        \n",
    "# cases\n",
    "print(search_in_tuples([(1, 2), (3, 4)], 3))  # Expected Output: 1\n",
    "print(search_in_tuples([(1, 2), (5, 6)], 7))  # Expected Output: -1"
   ]
  },
  {
   "cell_type": "code",
   "execution_count": null,
   "id": "7f535b51",
   "metadata": {},
   "outputs": [],
   "source": []
  },
  {
   "cell_type": "markdown",
   "id": "6d9cb4a5-45d0-472f-974b-ffd7d6ae56c5",
   "metadata": {},
   "source": [
    "**Question 4: Find a Missing Element (Unordered Lists)**\n",
    "\n",
    "**Problem:**\n",
    "\n",
    "Given two lists (one complete, the other with one missing element), find the missing element.\n",
    "\n",
    "**Test Cases:**"
   ]
  },
  {
   "cell_type": "code",
   "execution_count": 150,
   "id": "4f237dd2",
   "metadata": {},
   "outputs": [
    {
     "name": "stdout",
     "output_type": "stream",
     "text": [
      "3\n",
      "6\n"
     ]
    }
   ],
   "source": [
    "def find_missing(lst_a, lst_b):\n",
    "    \n",
    "    sum_a = 0                            # intialize the sum for list1 to 0\n",
    "    sum_b = 0                            # intialize the sum for list2 to 0\n",
    "    for num_a in lst_a:                  # take the summation of all the elements in list 1\n",
    "        sum_a += num_a\n",
    "        \n",
    "    for num_b in lst_b:                   # take the summation of all the elements in list 2\n",
    "        sum_b += num_b\n",
    "        \n",
    "    if sum_a != sum_b:                    # take the difference of two list summations -  gives the missing element\n",
    "        return(abs(sum_a - sum_b))\n",
    "\n",
    "    \n",
    "print(find_missing([1, 2, 3, 4], [1, 2, 4]))  # Expected Output: 3\n",
    "print(find_missing([5, 6, 7], [5, 7]))        # Expected Output: 6"
   ]
  },
  {
   "cell_type": "code",
   "execution_count": 3,
   "id": "91cfe727",
   "metadata": {},
   "outputs": [
    {
     "name": "stdout",
     "output_type": "stream",
     "text": [
      "3\n",
      "6\n"
     ]
    }
   ],
   "source": [
    "def find_missing(list1,list2):       \n",
    "    for num in list1:\n",
    "        if num not in list2:\n",
    "            return num\n",
    "    return -1\n",
    "\n",
    "print(find_missing([1, 2, 3, 4], [1, 2, 4]))  # Expected Output: 3\n",
    "print(find_missing([5, 6, 7], [5, 7]))        # Expected Output: 6\n",
    "\n",
    "\n",
    "# Constraint - if element is not present in list1 and present in list2 - it will not work"
   ]
  },
  {
   "cell_type": "code",
   "execution_count": 2,
   "id": "b2d9077d",
   "metadata": {},
   "outputs": [],
   "source": [
    "def find_missing(list1, list2):                       # Taking both list as input\n",
    "    len_list1 = len(list1)                            # Checking the length of both list\n",
    "    len_list2 = len(list2)\n",
    "    if len_list1 < len_list2:                         # If the lenght of list1 is less than list2, the swap the list with help of new variable list3\n",
    "        list3 = list1                                 # swapping of both list if the condtion is true\n",
    "        list1 = list2\n",
    "        list2 = list3"
   ]
  },
  {
   "cell_type": "markdown",
   "id": "e420b403-718e-4d5d-b902-e244d9f1cfef",
   "metadata": {},
   "source": [
    "**Question 5: Linear Search with Swapping**\n",
    "\n",
    "**Problem:**\n",
    "\n",
    "Perform linear search to find a target element and swap it with the last element.\n",
    "\n",
    "**Test Cases:**"
   ]
  },
  {
   "cell_type": "code",
   "execution_count": 73,
   "id": "ca79ae57",
   "metadata": {},
   "outputs": [
    {
     "name": "stdout",
     "output_type": "stream",
     "text": [
      "[30, 20, 10]\n",
      "[1, 2, 3]\n",
      "[5, 5, 7, 5]\n",
      "[8, 9, 10]\n",
      "[]\n",
      "[42]\n",
      "[1, 2, 3, 4, 5, 6, 7, 8, 9, 10, 11, 12, 13, 14, 15, 16, 17, 18, 19, 20, 21, 22, 23, 24, 25, 26, 27, 28, 29, 30, 31, 32, 33, 34, 35, 36, 37, 38, 39, 40, 41, 42, 43, 44, 45, 46, 47, 48, 49, 50, 51, 52, 53, 54, 55, 56, 57, 58, 59, 60, 61, 62, 63, 64, 65, 66, 67, 68, 69, 70, 71, 72, 73, 74, 75, 76, 77, 78, 79, 80, 81, 82, 83, 84, 85, 86, 87, 88, 89, 90, 91, 92, 93, 94, 95, 96, 97, 98, 99, 100, 101, 102, 103, 104, 105, 106, 107, 108, 109, 110, 111, 112, 113, 114, 115, 116, 117, 118, 119, 120, 121, 122, 123, 124, 125, 126, 127, 128, 129, 130, 131, 132, 133, 134, 135, 136, 137, 138, 139, 140, 141, 142, 143, 144, 145, 146, 147, 148, 149, 150, 151, 152, 153, 154, 155, 156, 157, 158, 159, 160, 161, 162, 163, 164, 165, 166, 167, 168, 169, 170, 171, 172, 173, 174, 175, 176, 177, 178, 179, 180, 181, 182, 183, 184, 185, 186, 187, 188, 189, 190, 191, 192, 193, 194, 195, 196, 197, 198, 199, 200, 201, 202, 203, 204, 205, 206, 207, 208, 209, 210, 211, 212, 213, 214, 215, 216, 217, 218, 219, 220, 221, 222, 223, 224, 225, 226, 227, 228, 229, 230, 231, 232, 233, 234, 235, 236, 237, 238, 239, 240, 241, 242, 243, 244, 245, 246, 247, 248, 249, 250, 251, 252, 253, 254, 255, 256, 257, 258, 259, 260, 261, 262, 263, 264, 265, 266, 267, 268, 269, 270, 271, 272, 273, 274, 275, 276, 277, 278, 279, 280, 281, 282, 283, 284, 285, 286, 287, 288, 289, 290, 291, 292, 293, 294, 295, 296, 297, 298, 299, 300, 301, 302, 303, 304, 305, 306, 307, 308, 309, 310, 311, 312, 313, 314, 315, 316, 317, 318, 319, 320, 321, 322, 323, 324, 325, 326, 327, 328, 329, 330, 331, 332, 333, 334, 335, 336, 337, 338, 339, 340, 341, 342, 343, 344, 345, 346, 347, 348, 349, 350, 351, 352, 353, 354, 355, 356, 357, 358, 359, 360, 361, 362, 363, 364, 365, 366, 367, 368, 369, 370, 371, 372, 373, 374, 375, 376, 377, 378, 379, 380, 381, 382, 383, 384, 385, 386, 387, 388, 389, 390, 391, 392, 393, 394, 395, 396, 397, 398, 399, 400, 401, 402, 403, 404, 405, 406, 407, 408, 409, 410, 411, 412, 413, 414, 415, 416, 417, 418, 419, 420, 421, 422, 423, 424, 425, 426, 427, 428, 429, 430, 431, 432, 433, 434, 435, 436, 437, 438, 439, 440, 441, 442, 443, 444, 445, 446, 447, 448, 449, 450, 451, 452, 453, 454, 455, 456, 457, 458, 459, 460, 461, 462, 463, 464, 465, 466, 467, 468, 469, 470, 471, 472, 473, 474, 475, 476, 477, 478, 479, 480, 481, 482, 483, 484, 485, 486, 487, 488, 489, 490, 491, 492, 493, 494, 495, 496, 497, 498, 499, 1000, 501, 502, 503, 504, 505, 506, 507, 508, 509, 510, 511, 512, 513, 514, 515, 516, 517, 518, 519, 520, 521, 522, 523, 524, 525, 526, 527, 528, 529, 530, 531, 532, 533, 534, 535, 536, 537, 538, 539, 540, 541, 542, 543, 544, 545, 546, 547, 548, 549, 550, 551, 552, 553, 554, 555, 556, 557, 558, 559, 560, 561, 562, 563, 564, 565, 566, 567, 568, 569, 570, 571, 572, 573, 574, 575, 576, 577, 578, 579, 580, 581, 582, 583, 584, 585, 586, 587, 588, 589, 590, 591, 592, 593, 594, 595, 596, 597, 598, 599, 600, 601, 602, 603, 604, 605, 606, 607, 608, 609, 610, 611, 612, 613, 614, 615, 616, 617, 618, 619, 620, 621, 622, 623, 624, 625, 626, 627, 628, 629, 630, 631, 632, 633, 634, 635, 636, 637, 638, 639, 640, 641, 642, 643, 644, 645, 646, 647, 648, 649, 650, 651, 652, 653, 654, 655, 656, 657, 658, 659, 660, 661, 662, 663, 664, 665, 666, 667, 668, 669, 670, 671, 672, 673, 674, 675, 676, 677, 678, 679, 680, 681, 682, 683, 684, 685, 686, 687, 688, 689, 690, 691, 692, 693, 694, 695, 696, 697, 698, 699, 700, 701, 702, 703, 704, 705, 706, 707, 708, 709, 710, 711, 712, 713, 714, 715, 716, 717, 718, 719, 720, 721, 722, 723, 724, 725, 726, 727, 728, 729, 730, 731, 732, 733, 734, 735, 736, 737, 738, 739, 740, 741, 742, 743, 744, 745, 746, 747, 748, 749, 750, 751, 752, 753, 754, 755, 756, 757, 758, 759, 760, 761, 762, 763, 764, 765, 766, 767, 768, 769, 770, 771, 772, 773, 774, 775, 776, 777, 778, 779, 780, 781, 782, 783, 784, 785, 786, 787, 788, 789, 790, 791, 792, 793, 794, 795, 796, 797, 798, 799, 800, 801, 802, 803, 804, 805, 806, 807, 808, 809, 810, 811, 812, 813, 814, 815, 816, 817, 818, 819, 820, 821, 822, 823, 824, 825, 826, 827, 828, 829, 830, 831, 832, 833, 834, 835, 836, 837, 838, 839, 840, 841, 842, 843, 844, 845, 846, 847, 848, 849, 850, 851, 852, 853, 854, 855, 856, 857, 858, 859, 860, 861, 862, 863, 864, 865, 866, 867, 868, 869, 870, 871, 872, 873, 874, 875, 876, 877, 878, 879, 880, 881, 882, 883, 884, 885, 886, 887, 888, 889, 890, 891, 892, 893, 894, 895, 896, 897, 898, 899, 900, 901, 902, 903, 904, 905, 906, 907, 908, 909, 910, 911, 912, 913, 914, 915, 916, 917, 918, 919, 920, 921, 922, 923, 924, 925, 926, 927, 928, 929, 930, 931, 932, 933, 934, 935, 936, 937, 938, 939, 940, 941, 942, 943, 944, 945, 946, 947, 948, 949, 950, 951, 952, 953, 954, 955, 956, 957, 958, 959, 960, 961, 962, 963, 964, 965, 966, 967, 968, 969, 970, 971, 972, 973, 974, 975, 976, 977, 978, 979, 980, 981, 982, 983, 984, 985, 986, 987, 988, 989, 990, 991, 992, 993, 994, 995, 996, 997, 998, 999, 500]\n"
     ]
    }
   ],
   "source": [
    "def search_and_swap(lst3, target3):\n",
    "    \n",
    "    if not lst3:               # handles a case when element is not present in list\n",
    "            return []          # return empty list\n",
    "        \n",
    "    for i in range(len(lst3)):          # traverse through each element in the list\n",
    "        if target3 == lst3[i]:          # if target is equal to the element\n",
    "            index = i                   # take the index of the element found\n",
    "            lst3[index] = lst3[-1]      # at the element's index, assign the last element     \n",
    "            lst3[-1] = target3          # at the last index assign the founf element\n",
    "            return(lst3)\n",
    "    return lst3\n",
    "\n",
    "# Test case   \n",
    "\n",
    "print(search_and_swap([10, 20, 30], 10))\n",
    "# Expected Output: [30, 20, 10]\n",
    "# Explanation: The target (10) is swapped with the last element (30).\n",
    "\n",
    "print(search_and_swap([1, 2, 3], 3))\n",
    "# Expected Output: [1, 2, 3]\n",
    "# Explanation: The target is already the last element, so no swap is needed.\n",
    "\n",
    "\n",
    "print(search_and_swap([5, 5, 7, 5], 5))\n",
    "# Expected Output: [5, 5, 7, 5]\n",
    "# Explanation: Only the first occurrence of the target is swapped with the last element.\n",
    "\n",
    "\n",
    "print(search_and_swap([8, 9, 10], 7))\n",
    "# Expected Output: [8, 9, 10]\n",
    "# Explanation: The target (7) is not in the list, so the original list is returned.\n",
    "\n",
    "print(search_and_swap([], 1))\n",
    "# Expected Output: []\n",
    "# Explanation: The list is empty, so the original list is returned.\n",
    "\n",
    "\n",
    "print(search_and_swap([42], 42))\n",
    "# Expected Output: [42]\n",
    "# Explanation: Since it's the only element, no swap is required.\n",
    "\n",
    "\n",
    "print(search_and_swap([i for i in range(1, 1001)], 500))\n",
    "# Expected Output: [1, 2, ..., 999, 500]\n",
    "# Explanation: The target (500) is swapped with the last element (1000).\n"
   ]
  },
  {
   "cell_type": "code",
   "execution_count": 134,
   "id": "dc7ca6f1",
   "metadata": {},
   "outputs": [
    {
     "name": "stdout",
     "output_type": "stream",
     "text": [
      "[30, 20, 10]\n",
      "[1, 2, 3]\n",
      "[5, 5, 7, 5]\n",
      "[8, 9, 10]\n",
      "[]\n",
      "[42]\n",
      "[1, 2, 3, 4, 5, 6, 7, 8, 9, 10, 11, 12, 13, 14, 15, 16, 17, 18, 19, 20, 21, 22, 23, 24, 25, 26, 27, 28, 29, 30, 31, 32, 33, 34, 35, 36, 37, 38, 39, 40, 41, 42, 43, 44, 45, 46, 47, 48, 49, 50, 51, 52, 53, 54, 55, 56, 57, 58, 59, 60, 61, 62, 63, 64, 65, 66, 67, 68, 69, 70, 71, 72, 73, 74, 75, 76, 77, 78, 79, 80, 81, 82, 83, 84, 85, 86, 87, 88, 89, 90, 91, 92, 93, 94, 95, 96, 97, 98, 99, 100, 101, 102, 103, 104, 105, 106, 107, 108, 109, 110, 111, 112, 113, 114, 115, 116, 117, 118, 119, 120, 121, 122, 123, 124, 125, 126, 127, 128, 129, 130, 131, 132, 133, 134, 135, 136, 137, 138, 139, 140, 141, 142, 143, 144, 145, 146, 147, 148, 149, 150, 151, 152, 153, 154, 155, 156, 157, 158, 159, 160, 161, 162, 163, 164, 165, 166, 167, 168, 169, 170, 171, 172, 173, 174, 175, 176, 177, 178, 179, 180, 181, 182, 183, 184, 185, 186, 187, 188, 189, 190, 191, 192, 193, 194, 195, 196, 197, 198, 199, 200, 201, 202, 203, 204, 205, 206, 207, 208, 209, 210, 211, 212, 213, 214, 215, 216, 217, 218, 219, 220, 221, 222, 223, 224, 225, 226, 227, 228, 229, 230, 231, 232, 233, 234, 235, 236, 237, 238, 239, 240, 241, 242, 243, 244, 245, 246, 247, 248, 249, 250, 251, 252, 253, 254, 255, 256, 257, 258, 259, 260, 261, 262, 263, 264, 265, 266, 267, 268, 269, 270, 271, 272, 273, 274, 275, 276, 277, 278, 279, 280, 281, 282, 283, 284, 285, 286, 287, 288, 289, 290, 291, 292, 293, 294, 295, 296, 297, 298, 299, 300, 301, 302, 303, 304, 305, 306, 307, 308, 309, 310, 311, 312, 313, 314, 315, 316, 317, 318, 319, 320, 321, 322, 323, 324, 325, 326, 327, 328, 329, 330, 331, 332, 333, 334, 335, 336, 337, 338, 339, 340, 341, 342, 343, 344, 345, 346, 347, 348, 349, 350, 351, 352, 353, 354, 355, 356, 357, 358, 359, 360, 361, 362, 363, 364, 365, 366, 367, 368, 369, 370, 371, 372, 373, 374, 375, 376, 377, 378, 379, 380, 381, 382, 383, 384, 385, 386, 387, 388, 389, 390, 391, 392, 393, 394, 395, 396, 397, 398, 399, 400, 401, 402, 403, 404, 405, 406, 407, 408, 409, 410, 411, 412, 413, 414, 415, 416, 417, 418, 419, 420, 421, 422, 423, 424, 425, 426, 427, 428, 429, 430, 431, 432, 433, 434, 435, 436, 437, 438, 439, 440, 441, 442, 443, 444, 445, 446, 447, 448, 449, 450, 451, 452, 453, 454, 455, 456, 457, 458, 459, 460, 461, 462, 463, 464, 465, 466, 467, 468, 469, 470, 471, 472, 473, 474, 475, 476, 477, 478, 479, 480, 481, 482, 483, 484, 485, 486, 487, 488, 489, 490, 491, 492, 493, 494, 495, 496, 497, 498, 499, 1000, 501, 502, 503, 504, 505, 506, 507, 508, 509, 510, 511, 512, 513, 514, 515, 516, 517, 518, 519, 520, 521, 522, 523, 524, 525, 526, 527, 528, 529, 530, 531, 532, 533, 534, 535, 536, 537, 538, 539, 540, 541, 542, 543, 544, 545, 546, 547, 548, 549, 550, 551, 552, 553, 554, 555, 556, 557, 558, 559, 560, 561, 562, 563, 564, 565, 566, 567, 568, 569, 570, 571, 572, 573, 574, 575, 576, 577, 578, 579, 580, 581, 582, 583, 584, 585, 586, 587, 588, 589, 590, 591, 592, 593, 594, 595, 596, 597, 598, 599, 600, 601, 602, 603, 604, 605, 606, 607, 608, 609, 610, 611, 612, 613, 614, 615, 616, 617, 618, 619, 620, 621, 622, 623, 624, 625, 626, 627, 628, 629, 630, 631, 632, 633, 634, 635, 636, 637, 638, 639, 640, 641, 642, 643, 644, 645, 646, 647, 648, 649, 650, 651, 652, 653, 654, 655, 656, 657, 658, 659, 660, 661, 662, 663, 664, 665, 666, 667, 668, 669, 670, 671, 672, 673, 674, 675, 676, 677, 678, 679, 680, 681, 682, 683, 684, 685, 686, 687, 688, 689, 690, 691, 692, 693, 694, 695, 696, 697, 698, 699, 700, 701, 702, 703, 704, 705, 706, 707, 708, 709, 710, 711, 712, 713, 714, 715, 716, 717, 718, 719, 720, 721, 722, 723, 724, 725, 726, 727, 728, 729, 730, 731, 732, 733, 734, 735, 736, 737, 738, 739, 740, 741, 742, 743, 744, 745, 746, 747, 748, 749, 750, 751, 752, 753, 754, 755, 756, 757, 758, 759, 760, 761, 762, 763, 764, 765, 766, 767, 768, 769, 770, 771, 772, 773, 774, 775, 776, 777, 778, 779, 780, 781, 782, 783, 784, 785, 786, 787, 788, 789, 790, 791, 792, 793, 794, 795, 796, 797, 798, 799, 800, 801, 802, 803, 804, 805, 806, 807, 808, 809, 810, 811, 812, 813, 814, 815, 816, 817, 818, 819, 820, 821, 822, 823, 824, 825, 826, 827, 828, 829, 830, 831, 832, 833, 834, 835, 836, 837, 838, 839, 840, 841, 842, 843, 844, 845, 846, 847, 848, 849, 850, 851, 852, 853, 854, 855, 856, 857, 858, 859, 860, 861, 862, 863, 864, 865, 866, 867, 868, 869, 870, 871, 872, 873, 874, 875, 876, 877, 878, 879, 880, 881, 882, 883, 884, 885, 886, 887, 888, 889, 890, 891, 892, 893, 894, 895, 896, 897, 898, 899, 900, 901, 902, 903, 904, 905, 906, 907, 908, 909, 910, 911, 912, 913, 914, 915, 916, 917, 918, 919, 920, 921, 922, 923, 924, 925, 926, 927, 928, 929, 930, 931, 932, 933, 934, 935, 936, 937, 938, 939, 940, 941, 942, 943, 944, 945, 946, 947, 948, 949, 950, 951, 952, 953, 954, 955, 956, 957, 958, 959, 960, 961, 962, 963, 964, 965, 966, 967, 968, 969, 970, 971, 972, 973, 974, 975, 976, 977, 978, 979, 980, 981, 982, 983, 984, 985, 986, 987, 988, 989, 990, 991, 992, 993, 994, 995, 996, 997, 998, 999, 500]\n"
     ]
    }
   ],
   "source": [
    "def search_and_swap(nums,target):\n",
    "    for i in range(len(nums)):\n",
    "        if nums[i]==target:\n",
    "            nums[i],nums[-1]=nums[-1],nums[i]\n",
    "    return nums\n",
    "\n",
    "# Test case   \n",
    "\n",
    "print(search_and_swap([10, 20, 30], 10))\n",
    "# Expected Output: [30, 20, 10]\n",
    "# Explanation: The target (10) is swapped with the last element (30).\n",
    "\n",
    "print(search_and_swap([1, 2, 3], 3))\n",
    "# Expected Output: [1, 2, 3]\n",
    "# Explanation: The target is already the last element, so no swap is needed.\n",
    "\n",
    "\n",
    "print(search_and_swap([5, 5, 7, 5], 5))\n",
    "# Expected Output: [5, 5, 7, 5]\n",
    "# Explanation: Only the first occurrence of the target is swapped with the last element.\n",
    "\n",
    "\n",
    "print(search_and_swap([8, 9, 10], 7))\n",
    "# Expected Output: [8, 9, 10]\n",
    "# Explanation: The target (7) is not in the list, so the original list is returned.\n",
    "\n",
    "print(search_and_swap([], 1))\n",
    "# Expected Output: []\n",
    "# Explanation: The list is empty, so the original list is returned.\n",
    "\n",
    "\n",
    "print(search_and_swap([42], 42))\n",
    "# Expected Output: [42]\n",
    "# Explanation: Since it's the only element, no swap is required.\n",
    "\n",
    "\n",
    "print(search_and_swap([i for i in range(1, 1001)], 500))\n",
    "# Expected Output: [1, 2, ..., 999, 500]\n",
    "# Explanation: The target (500) is swapped with the last element (1000).\n"
   ]
  },
  {
   "cell_type": "code",
   "execution_count": 75,
   "id": "cca1e8fb-b747-41dc-bb8b-014d256e7665",
   "metadata": {},
   "outputs": [
    {
     "name": "stdout",
     "output_type": "stream",
     "text": [
      "[30, 20, 10]\n",
      "[1, 2, 3]\n",
      "[5, 5, 7, 5]\n",
      "[8, 9, 10]\n",
      "[]\n",
      "[42]\n",
      "[1, 2, 3, 4, 5, 6, 7, 8, 9, 10, 11, 12, 13, 14, 15, 16, 17, 18, 19, 20, 21, 22, 23, 24, 25, 26, 27, 28, 29, 30, 31, 32, 33, 34, 35, 36, 37, 38, 39, 40, 41, 42, 43, 44, 45, 46, 47, 48, 49, 50, 51, 52, 53, 54, 55, 56, 57, 58, 59, 60, 61, 62, 63, 64, 65, 66, 67, 68, 69, 70, 71, 72, 73, 74, 75, 76, 77, 78, 79, 80, 81, 82, 83, 84, 85, 86, 87, 88, 89, 90, 91, 92, 93, 94, 95, 96, 97, 98, 99, 100, 101, 102, 103, 104, 105, 106, 107, 108, 109, 110, 111, 112, 113, 114, 115, 116, 117, 118, 119, 120, 121, 122, 123, 124, 125, 126, 127, 128, 129, 130, 131, 132, 133, 134, 135, 136, 137, 138, 139, 140, 141, 142, 143, 144, 145, 146, 147, 148, 149, 150, 151, 152, 153, 154, 155, 156, 157, 158, 159, 160, 161, 162, 163, 164, 165, 166, 167, 168, 169, 170, 171, 172, 173, 174, 175, 176, 177, 178, 179, 180, 181, 182, 183, 184, 185, 186, 187, 188, 189, 190, 191, 192, 193, 194, 195, 196, 197, 198, 199, 200, 201, 202, 203, 204, 205, 206, 207, 208, 209, 210, 211, 212, 213, 214, 215, 216, 217, 218, 219, 220, 221, 222, 223, 224, 225, 226, 227, 228, 229, 230, 231, 232, 233, 234, 235, 236, 237, 238, 239, 240, 241, 242, 243, 244, 245, 246, 247, 248, 249, 250, 251, 252, 253, 254, 255, 256, 257, 258, 259, 260, 261, 262, 263, 264, 265, 266, 267, 268, 269, 270, 271, 272, 273, 274, 275, 276, 277, 278, 279, 280, 281, 282, 283, 284, 285, 286, 287, 288, 289, 290, 291, 292, 293, 294, 295, 296, 297, 298, 299, 300, 301, 302, 303, 304, 305, 306, 307, 308, 309, 310, 311, 312, 313, 314, 315, 316, 317, 318, 319, 320, 321, 322, 323, 324, 325, 326, 327, 328, 329, 330, 331, 332, 333, 334, 335, 336, 337, 338, 339, 340, 341, 342, 343, 344, 345, 346, 347, 348, 349, 350, 351, 352, 353, 354, 355, 356, 357, 358, 359, 360, 361, 362, 363, 364, 365, 366, 367, 368, 369, 370, 371, 372, 373, 374, 375, 376, 377, 378, 379, 380, 381, 382, 383, 384, 385, 386, 387, 388, 389, 390, 391, 392, 393, 394, 395, 396, 397, 398, 399, 400, 401, 402, 403, 404, 405, 406, 407, 408, 409, 410, 411, 412, 413, 414, 415, 416, 417, 418, 419, 420, 421, 422, 423, 424, 425, 426, 427, 428, 429, 430, 431, 432, 433, 434, 435, 436, 437, 438, 439, 440, 441, 442, 443, 444, 445, 446, 447, 448, 449, 450, 451, 452, 453, 454, 455, 456, 457, 458, 459, 460, 461, 462, 463, 464, 465, 466, 467, 468, 469, 470, 471, 472, 473, 474, 475, 476, 477, 478, 479, 480, 481, 482, 483, 484, 485, 486, 487, 488, 489, 490, 491, 492, 493, 494, 495, 496, 497, 498, 499, 1000, 501, 502, 503, 504, 505, 506, 507, 508, 509, 510, 511, 512, 513, 514, 515, 516, 517, 518, 519, 520, 521, 522, 523, 524, 525, 526, 527, 528, 529, 530, 531, 532, 533, 534, 535, 536, 537, 538, 539, 540, 541, 542, 543, 544, 545, 546, 547, 548, 549, 550, 551, 552, 553, 554, 555, 556, 557, 558, 559, 560, 561, 562, 563, 564, 565, 566, 567, 568, 569, 570, 571, 572, 573, 574, 575, 576, 577, 578, 579, 580, 581, 582, 583, 584, 585, 586, 587, 588, 589, 590, 591, 592, 593, 594, 595, 596, 597, 598, 599, 600, 601, 602, 603, 604, 605, 606, 607, 608, 609, 610, 611, 612, 613, 614, 615, 616, 617, 618, 619, 620, 621, 622, 623, 624, 625, 626, 627, 628, 629, 630, 631, 632, 633, 634, 635, 636, 637, 638, 639, 640, 641, 642, 643, 644, 645, 646, 647, 648, 649, 650, 651, 652, 653, 654, 655, 656, 657, 658, 659, 660, 661, 662, 663, 664, 665, 666, 667, 668, 669, 670, 671, 672, 673, 674, 675, 676, 677, 678, 679, 680, 681, 682, 683, 684, 685, 686, 687, 688, 689, 690, 691, 692, 693, 694, 695, 696, 697, 698, 699, 700, 701, 702, 703, 704, 705, 706, 707, 708, 709, 710, 711, 712, 713, 714, 715, 716, 717, 718, 719, 720, 721, 722, 723, 724, 725, 726, 727, 728, 729, 730, 731, 732, 733, 734, 735, 736, 737, 738, 739, 740, 741, 742, 743, 744, 745, 746, 747, 748, 749, 750, 751, 752, 753, 754, 755, 756, 757, 758, 759, 760, 761, 762, 763, 764, 765, 766, 767, 768, 769, 770, 771, 772, 773, 774, 775, 776, 777, 778, 779, 780, 781, 782, 783, 784, 785, 786, 787, 788, 789, 790, 791, 792, 793, 794, 795, 796, 797, 798, 799, 800, 801, 802, 803, 804, 805, 806, 807, 808, 809, 810, 811, 812, 813, 814, 815, 816, 817, 818, 819, 820, 821, 822, 823, 824, 825, 826, 827, 828, 829, 830, 831, 832, 833, 834, 835, 836, 837, 838, 839, 840, 841, 842, 843, 844, 845, 846, 847, 848, 849, 850, 851, 852, 853, 854, 855, 856, 857, 858, 859, 860, 861, 862, 863, 864, 865, 866, 867, 868, 869, 870, 871, 872, 873, 874, 875, 876, 877, 878, 879, 880, 881, 882, 883, 884, 885, 886, 887, 888, 889, 890, 891, 892, 893, 894, 895, 896, 897, 898, 899, 900, 901, 902, 903, 904, 905, 906, 907, 908, 909, 910, 911, 912, 913, 914, 915, 916, 917, 918, 919, 920, 921, 922, 923, 924, 925, 926, 927, 928, 929, 930, 931, 932, 933, 934, 935, 936, 937, 938, 939, 940, 941, 942, 943, 944, 945, 946, 947, 948, 949, 950, 951, 952, 953, 954, 955, 956, 957, 958, 959, 960, 961, 962, 963, 964, 965, 966, 967, 968, 969, 970, 971, 972, 973, 974, 975, 976, 977, 978, 979, 980, 981, 982, 983, 984, 985, 986, 987, 988, 989, 990, 991, 992, 993, 994, 995, 996, 997, 998, 999, 500]\n"
     ]
    }
   ],
   "source": [
    "def search_and_swap(lst3, target3):\n",
    "    if not lst3:  \n",
    "        return []\n",
    "    \n",
    "    # Search for the first occurrence of the target\n",
    "    for i in range(len(lst3)):\n",
    "        if target3 == lst3[i]:\n",
    "            # Swap the target with the last element\n",
    "            lst3[i], lst3[-1] = lst3[-1], lst3[i]\n",
    "            return lst3  \n",
    "    \n",
    "    return lst3  # Return the original list if the target is not found\n",
    "\n",
    "\n",
    "##elif target3 != lst3[i]: it will check first elemnt from the list and will come out of the function\n",
    "##statement will cause the function to return prematurely \n",
    "##if the target is not found at the very first index. \n",
    "##This means the function might return the list before fully checking all elements.\n",
    "# Test case   \n",
    "\n",
    "print(search_and_swap([10, 20, 30], 10))\n",
    "# Expected Output: [30, 20, 10]\n",
    "# Explanation: The target (10) is swapped with the last element (30).\n",
    "\n",
    "print(search_and_swap([1, 2, 3], 3))\n",
    "# Expected Output: [1, 2, 3]\n",
    "# Explanation: The target is already the last element, so no swap is needed.\n",
    "\n",
    "\n",
    "print(search_and_swap([5, 5, 7, 5], 5))\n",
    "# Expected Output: [5, 5, 7, 5]\n",
    "# Explanation: Only the first occurrence of the target is swapped with the last element.\n",
    "\n",
    "\n",
    "print(search_and_swap([8, 9, 10], 7))\n",
    "# Expected Output: [8, 9, 10]\n",
    "# Explanation: The target (7) is not in the list, so the original list is returned.\n",
    "\n",
    "print(search_and_swap([], 1))\n",
    "# Expected Output: []\n",
    "# Explanation: The list is empty, so the original list is returned.\n",
    "\n",
    "\n",
    "print(search_and_swap([42], 42))\n",
    "# Expected Output: [42]\n",
    "# Explanation: Since it's the only element, no swap is required.\n",
    "\n",
    "\n",
    "print(search_and_swap([i for i in range(1, 1001)], 500))\n",
    "# Expected Output: [1, 2, ..., 999, 500]\n",
    "# Explanation: The target (500) is swapped with the last element (1000).\n"
   ]
  },
  {
   "cell_type": "code",
   "execution_count": null,
   "id": "1922a120",
   "metadata": {},
   "outputs": [],
   "source": []
  },
  {
   "cell_type": "markdown",
   "id": "0610daa3-8b68-4c21-8287-53ccc2426187",
   "metadata": {},
   "source": [
    "**Question 6: Find Even Numbers in a Nested List**\n",
    "\n",
    "**Problem:**\n",
    "\n",
    "Write a function using list comprehension to extract all even numbers from a nested list. The nested list can contain lists of varying lengths.\n",
    "\n",
    "**Test Cases:**\n"
   ]
  },
  {
   "cell_type": "code",
   "execution_count": 151,
   "id": "eebdee6d-76a8-4a12-9efc-16d34e6ac7dc",
   "metadata": {},
   "outputs": [
    {
     "name": "stdout",
     "output_type": "stream",
     "text": [
      "[2, 4, 6, 8]\n",
      "[]\n",
      "[]\n"
     ]
    }
   ],
   "source": [
    "def find_even_numbers(nested_list):\n",
    "    \n",
    "    even = []                             # take an empty list to add even numbers\n",
    "    for lists in nested_list:             # traverse each element from the list\n",
    "        for val in lists:                 # take each elements from the nested list\n",
    "            if val % 2 == 0:              # check if the number is even\n",
    "                even.append(val)          # add the even element to the empty list\n",
    "    \n",
    "    return even\n",
    "\n",
    "\n",
    "nested_list = [[1, 2, 3], [4, 5], [6, 7, 8, 9]]\n",
    "print(find_even_numbers(nested_list))\n",
    "# Expected Output: [2, 4, 6, 8]\n",
    "\n",
    "nested_list = [[11, 13], [15], [17, 19]]\n",
    "print(find_even_numbers(nested_list))\n",
    "# Expected Output: []\n",
    "\n",
    "nested_list = []\n",
    "print(find_even_numbers(nested_list))\n",
    "# Expected Output: []\n"
   ]
  },
  {
   "cell_type": "markdown",
   "id": "f61c5d3b",
   "metadata": {},
   "source": [
    "**TC - O(n^2)**"
   ]
  },
  {
   "cell_type": "markdown",
   "id": "a2ee6105",
   "metadata": {},
   "source": [
    "Even number check: Inside the inner loop, the condition if val % 2 == 0: checks if a number is even. If it is, it's added to the even list.\n",
    "\n",
    "Time complexity: Since each element is processed exactly once, the time complexity is O(n), where n is the total number of elements in the nested list.\n"
   ]
  },
  {
   "cell_type": "code",
   "execution_count": null,
   "id": "6635a5c5",
   "metadata": {},
   "outputs": [],
   "source": [
    "# List comprehension - TC O(N)\n",
    "\n"
   ]
  },
  {
   "cell_type": "markdown",
   "id": "f8c8abde-fd8f-4573-9df1-6a60c3ba72af",
   "metadata": {},
   "source": [
    "**Question 7:  Find Indices of a Target in a Nested List**\n",
    "\n",
    "**Problem:**\n",
    "\n",
    "Write a function using list comprehension to search for a target element in a nested list and return all its (row, column) indices.\n",
    "\n",
    "**Test Cases:**"
   ]
  },
  {
   "cell_type": "code",
   "execution_count": 152,
   "id": "ae3c206d-644b-49d3-9d40-b937d6e80479",
   "metadata": {},
   "outputs": [
    {
     "name": "stdout",
     "output_type": "stream",
     "text": [
      "[(0, 1), (1, 1), (2, 1)]\n",
      "[]\n",
      "[(0, 0), (0, 1), (1, 0)]\n"
     ]
    }
   ],
   "source": [
    "def find_target_indices(nested_list1, target4):\n",
    "    indices = []                               # take an empty list to add the indices of the nested list element\n",
    "    \n",
    "    \n",
    "    i = 0                                      # Index for the outer list          \n",
    "    for sublist in nested_list1:               # traverse through nested listed inside a list\n",
    "        j = 0                                  # Index for the inner list\n",
    "        for val1 in sublist:                   # traverse through values in the nested list\n",
    "            if val1 == target4:                # if the element is equal to the target\n",
    "                indices.append((i, j))         # add the element's index\n",
    "            j += 1                             # increment the inner loop\n",
    "        i += 1                                 # increment the outer loop\n",
    "    \n",
    "    return indices\n",
    "\n",
    "# Test cases\n",
    "nested_list1 = [[1, 2, 3], [4, 2], [5, 2, 6]]\n",
    "print(find_target_indices(nested_list1, 2))\n",
    "# Expected Output: [(0, 1), (1, 1), (2, 1)]\n",
    "\n",
    "nested_list1 = [[7, 8], [9]]\n",
    "print(find_target_indices(nested_list1, 5))\n",
    "# Expected Output: []\n",
    "\n",
    "nested_list1 = [[5, 5], [5]]\n",
    "print(find_target_indices(nested_list1, 5))\n",
    "# Expected Output: [(0, 0), (0, 1), (1, 0)]\n"
   ]
  },
  {
   "cell_type": "code",
   "execution_count": null,
   "id": "fcabdec0",
   "metadata": {},
   "outputs": [],
   "source": []
  },
  {
   "cell_type": "markdown",
   "id": "9fb5ac45-8aa9-4732-90cc-06d1f92c390f",
   "metadata": {},
   "source": [
    "**Question 8: Flatten a Nested List with Specific Filter**\n",
    "\n",
    "**Problem:**\n",
    "    \n",
    "Write a function using list comprehension to flatten a nested list but only include positive integers greater than a given threshold.\n",
    "\n",
    "**Test Cases:**"
   ]
  },
  {
   "cell_type": "code",
   "execution_count": 153,
   "id": "f3b4a049-7283-4177-95e5-ac4434da9b10",
   "metadata": {},
   "outputs": [
    {
     "name": "stdout",
     "output_type": "stream",
     "text": [
      "[4, 6, 8, 9]\n",
      "[6]\n",
      "[40]\n"
     ]
    }
   ],
   "source": [
    "def flatten_and_filter(nested_list5, t5):\n",
    "    \n",
    "    flat = []                          # take an empty list to add the elements\n",
    "    for sub in nested_list5:           # traverse through the sublist from the list\n",
    "        for val in sub:                # traverse through each eleemnt from the sublist\n",
    "            if val > t5:               # if that element is greater than threshold, add the value to list\n",
    "                flat.append(val)\n",
    "\n",
    "    return flat\n",
    "\n",
    "\n",
    "nested_list5 = [[-1, 2, 3], [4, -5], [6, -7, 8, 9]]\n",
    "print(flatten_and_filter(nested_list5, 3))\n",
    "# Expected Output: [4, 6, 8, 9]\n",
    "\n",
    "nested_list5 = [[0, -2, -3], [-4, -5], [6]]\n",
    "print(flatten_and_filter(nested_list5, 5))\n",
    "# Expected Output: [6]\n",
    "\n",
    "nested_list5 = [[-10, -20], [30], [40, -50]]\n",
    "print(flatten_and_filter(nested_list5, 35))\n",
    "# Expected Output: [40]\n"
   ]
  },
  {
   "cell_type": "code",
   "execution_count": null,
   "id": "f1fca80a",
   "metadata": {},
   "outputs": [],
   "source": []
  },
  {
   "cell_type": "markdown",
   "id": "ea93cbc3-5f23-4e1e-bf1d-c3680674cb88",
   "metadata": {},
   "source": [
    "**Question 9: Inventory Search in a Warehouse**\n",
    "\n",
    "**Problem:**\n",
    "\n",
    "You are managing a warehouse that stores a list of items. Each item is represented as a tuple containing the item name and its stock quantity, like this:\n",
    "[(\"Laptop\", 5), (\"Phone\", 10), (\"Tablet\", 0), ...]\n",
    "\n",
    "Write a function that performs a linear search to find all items that are out of stock (quantity = 0). Return a list of the item names that are out of stock.\n",
    "\n",
    "**Test Cases:**"
   ]
  },
  {
   "cell_type": "code",
   "execution_count": null,
   "id": "9535fe4b",
   "metadata": {},
   "outputs": [],
   "source": [
    "[device for device,quantity in inventory if quantity==0]"
   ]
  },
  {
   "cell_type": "code",
   "execution_count": 154,
   "id": "951bca0f-e9d5-4aaa-812c-3eadcef74561",
   "metadata": {},
   "outputs": [
    {
     "name": "stdout",
     "output_type": "stream",
     "text": [
      "['Phone', 'Tablet']\n",
      "[]\n",
      "[]\n"
     ]
    }
   ],
   "source": [
    "def find_out_of_stock(inventory):\n",
    "    \n",
    "    invent = []                       # take the empty list to add items\n",
    "    for tup in inventory:             # traverse through each tuple in the list\n",
    "        if 0 in tup:                  # if 0 is present in each tuple, append the items\n",
    "            invent.append(tup[0])\n",
    "    return invent\n",
    "\n",
    "\n",
    "inventory = [(\"Laptop\", 5), (\"Phone\", 0), (\"Tablet\", 0), (\"Monitor\", 3)]\n",
    "print(find_out_of_stock(inventory))\n",
    "# Expected Output: ['Phone', 'Tablet']\n",
    "\n",
    "inventory = [(\"Pen\", 10), (\"Notebook\", 15)]\n",
    "print(find_out_of_stock(inventory))\n",
    "# Expected Output: []\n",
    "\n",
    "inventory = []\n",
    "print(find_out_of_stock(inventory))\n",
    "# Expected Output: []\n"
   ]
  },
  {
   "cell_type": "code",
   "execution_count": 142,
   "id": "3ca30b05",
   "metadata": {},
   "outputs": [
    {
     "name": "stdout",
     "output_type": "stream",
     "text": [
      "['Phone', 'Tablet']\n",
      "[]\n",
      "[]\n"
     ]
    }
   ],
   "source": [
    "def find_out_of_stock(inventory):\n",
    "    \n",
    "    invent = []\n",
    "    for item, stock in inventory:\n",
    "        if stock == 0 :\n",
    "            invent.append(item)\n",
    "    return invent\n",
    "\n",
    "\n",
    "inventory = [(\"Laptop\", 5), (\"Phone\", 0), (\"Tablet\", 0), (\"Monitor\", 3)]\n",
    "print(find_out_of_stock(inventory))\n",
    "# Expected Output: ['Phone', 'Tablet']\n",
    "\n",
    "inventory = [(\"Pen\", 10), (\"Notebook\", 15)]\n",
    "print(find_out_of_stock(inventory))\n",
    "# Expected Output: []\n",
    "\n",
    "inventory = []\n",
    "print(find_out_of_stock(inventory))\n",
    "# Expected Output: []\n"
   ]
  },
  {
   "cell_type": "code",
   "execution_count": null,
   "id": "76209265",
   "metadata": {},
   "outputs": [],
   "source": []
  },
  {
   "cell_type": "markdown",
   "id": "996c8a1d-adb9-41cb-8718-dbf2a3ba65b9",
   "metadata": {},
   "source": [
    "**Question 10: Avengers Mission Performance Analysis**\n",
    "    \n",
    "**Problem:**\n",
    "\n",
    "You are provided with a list of Avengers and their performance scores in different missions. Each Avenger is represented as a tuple, containing their name and a list of scores from multiple missions:\n",
    "[(\"Iron Man\", [80, 75, 90]), (\"Thor\", [40, 60, 55]), ...]\n",
    "\n",
    "Write a function that performs a linear search to find Avengers who failed in at least one mission (a score below 50). Return a list of their names. **An Avenger is considered to have failed if any score in their list of missions is below 50.**"
   ]
  },
  {
   "cell_type": "code",
   "execution_count": 156,
   "id": "267286b2-9f32-4d91-b000-15742ae04f94",
   "metadata": {},
   "outputs": [
    {
     "name": "stdout",
     "output_type": "stream",
     "text": [
      "['Thor', 'Hawkeye']\n",
      "[]\n",
      "[]\n"
     ]
    }
   ],
   "source": [
    "def find_failed_avengers(avengers):\n",
    "    \n",
    "    names = []                              # take an empty list to add names\n",
    "    for tup1 in avengers:                   # traverse through each tuple in the list\n",
    "        for num in tup1[1]:                 # traverse through the list elements from the tuple\n",
    "        \n",
    "             if num < 50:                   # if the condtion is satisfied, add the element to empty list\n",
    "                names.append(tup1[0])\n",
    "\n",
    "    return names\n",
    "\n",
    "# Test Cases\n",
    "\n",
    "avengers = [\n",
    "    (\"Iron Man\", [80, 75, 90]),\n",
    "    (\"Thor\", [40, 60, 55]),\n",
    "    (\"Hulk\", [60, 60, 65]),\n",
    "    (\"Black Widow\", [70, 80, 85]),\n",
    "    (\"Hawkeye\", [55, 45, 65])\n",
    "]\n",
    "print(find_failed_avengers(avengers))\n",
    "# Expected Output: ['Thor', 'Hawkeye']\n",
    "\n",
    "avengers = [\n",
    "    (\"Iron Man\", [50, 55, 60]),\n",
    "    (\"Thor\", [60, 70, 80]),\n",
    "]\n",
    "print(find_failed_avengers(avengers))\n",
    "# Expected Output: []\n",
    "\n",
    "avengers = []\n",
    "print(find_failed_avengers(avengers))\n",
    "# Expected Output: []\n"
   ]
  },
  {
   "cell_type": "code",
   "execution_count": 141,
   "id": "00aba72d-1e79-4335-9125-000e5c2c7c66",
   "metadata": {},
   "outputs": [
    {
     "name": "stdout",
     "output_type": "stream",
     "text": [
      "['Thor', 'Hawkeye']\n",
      "[]\n",
      "[]\n"
     ]
    }
   ],
   "source": [
    "def find_failed_avengers(avengers):\n",
    "    \n",
    "    names = []\n",
    "    for name, lst in avengers:\n",
    "        for num in lst:\n",
    "        \n",
    "             if num < 50:\n",
    "                names.append(name)\n",
    "\n",
    "    return names\n",
    "\n",
    "# Test Cases\n",
    "\n",
    "avengers = [\n",
    "    (\"Iron Man\", [80, 75, 90]),\n",
    "    (\"Thor\", [40, 60, 55]),\n",
    "    (\"Hulk\", [60, 60, 65]),\n",
    "    (\"Black Widow\", [70, 80, 85]),\n",
    "    (\"Hawkeye\", [55, 45, 65])\n",
    "]\n",
    "print(find_failed_avengers(avengers))\n",
    "# Expected Output: ['Thor', 'Hawkeye']\n",
    "\n",
    "avengers = [\n",
    "    (\"Iron Man\", [50, 55, 60]),\n",
    "    (\"Thor\", [60, 70, 80]),\n",
    "]\n",
    "print(find_failed_avengers(avengers))\n",
    "# Expected Output: []\n",
    "\n",
    "avengers = []\n",
    "print(find_failed_avengers(avengers))\n",
    "# Expected Output: []\n"
   ]
  },
  {
   "cell_type": "code",
   "execution_count": null,
   "id": "97c8a0f7",
   "metadata": {},
   "outputs": [],
   "source": []
  }
 ],
 "metadata": {
  "kernelspec": {
   "display_name": "Python 3 (ipykernel)",
   "language": "python",
   "name": "python3"
  },
  "language_info": {
   "codemirror_mode": {
    "name": "ipython",
    "version": 3
   },
   "file_extension": ".py",
   "mimetype": "text/x-python",
   "name": "python",
   "nbconvert_exporter": "python",
   "pygments_lexer": "ipython3",
   "version": "3.10.9"
  }
 },
 "nbformat": 4,
 "nbformat_minor": 5
}
