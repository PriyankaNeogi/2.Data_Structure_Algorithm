{
 "cells": [
  {
   "cell_type": "markdown",
   "id": "da0ce3bd-04d3-4055-8b8f-05dbfcd44147",
   "metadata": {},
   "source": [
    "**Question 1: Find the First Palindrome in a List**\n",
    "\n",
    "Write a function that performs a linear search to find the first palindrome string in a list. Return the palindrome if found; otherwise, return None.\n",
    "\n",
    "**Test Case:**"
   ]
  },
  {
   "cell_type": "code",
   "execution_count": 81,
   "id": "afc44c4e-0ce2-4573-9c5e-1a6b2d5d0038",
   "metadata": {},
   "outputs": [
    {
     "name": "stdout",
     "output_type": "stream",
     "text": [
      "madam\n",
      "None\n",
      "level\n"
     ]
    }
   ],
   "source": [
    "def find_first_palindrome(lst):\n",
    "    \n",
    "    for text in lst:                # takes each text from the list\n",
    "        if text == text[::-1]:      # checks the original text and the reversal text is same or not\n",
    "            return text             \n",
    "    \n",
    "\n",
    "# Test Cases\n",
    "print(find_first_palindrome([\"hello\", \"madam\", \"world\"]))  \n",
    "# Expected Output: 'madam'\n",
    "\n",
    "print(find_first_palindrome([\"abc\", \"xyz\", \"def\"]))  \n",
    "# Expected Output: None\n",
    "\n",
    "print(find_first_palindrome([\"level\", \"noon\", \"radar\"]))  \n",
    "# Expected Output: 'level'"
   ]
  },
  {
   "cell_type": "code",
   "execution_count": null,
   "id": "a27f48dc",
   "metadata": {},
   "outputs": [],
   "source": []
  },
  {
   "cell_type": "markdown",
   "id": "6485eee1-9530-48fe-93ff-9d7db54edce3",
   "metadata": {},
   "source": [
    "**Question 2: Find the Maximum Odd Number**\n",
    "\n",
    "**Problem:**\n",
    "  \n",
    "Given a list of integers, write a function to search for the maximum odd number. If no odd number is found, return None.\n",
    "\n",
    "**Test Cases:**"
   ]
  },
  {
   "cell_type": "code",
   "execution_count": 82,
   "id": "e3dee248-efc6-4a8f-8b04-79d2ef190580",
   "metadata": {},
   "outputs": [
    {
     "name": "stdout",
     "output_type": "stream",
     "text": [
      "7\n",
      "None\n",
      "5\n"
     ]
    }
   ],
   "source": [
    "def find_max_odd(lst1):\n",
    "    \n",
    "    odd = [num for num in lst1 if num%2 !=0]       # create a list of odd numbers from the given list\n",
    "   \n",
    "    if not odd:                                    # if the odd list is empty return None\n",
    "        return None\n",
    "\n",
    "    maximum = odd[0]                                # assign the first element as maximum from the odd list\n",
    "    for n in odd:                                 # traverse through each element of the odd list\n",
    "        if n > maximum:                     # if maximum is smaller than the list element\n",
    "            maximum = n                      # reassign the maximum element\n",
    "    return maximum\n",
    "    \n",
    "\n",
    "print(find_max_odd([2, 3, 7, 10]))\n",
    "# Expected Output: 7\n",
    "\n",
    "print(find_max_odd([2, 4, 6, 8]))\n",
    "# Expected Output: None\n",
    "\n",
    "print(find_max_odd([5, 5, 1]))\n",
    "# Expected Output: 5\n"
   ]
  },
  {
   "cell_type": "code",
   "execution_count": null,
   "id": "25375eed",
   "metadata": {},
   "outputs": [],
   "source": []
  },
  {
   "cell_type": "markdown",
   "id": "763b0f16-8a49-4f33-81c0-8ebdbede2620",
   "metadata": {},
   "source": [
    "**Question 3. Search for Common Elements in Two Lists**\n",
    "\n",
    "**Problem:**\n",
    "\n",
    "Given two lists, write a function that returns a list of common elements using linear search.\n",
    "\n",
    "**Test Cases:**"
   ]
  },
  {
   "cell_type": "code",
   "execution_count": 1,
   "id": "94387fb1-fcef-4179-a923-88c07ba1187c",
   "metadata": {},
   "outputs": [
    {
     "name": "stdout",
     "output_type": "stream",
     "text": [
      "[2, 3]\n",
      "[]\n",
      "[1, 2]\n"
     ]
    }
   ],
   "source": [
    "def find_common_elements(lst_a, lst_b):\n",
    "    \n",
    "    common = []                             # take an empty list to append common elements\n",
    "    for num1 in lst_a:                      # traverse through all elements in list1\n",
    "        if num1 in lst_b:                   # if the element is present in the list2 append the element\n",
    "            common.append(num1)\n",
    "\n",
    "    return common\n",
    "\n",
    "print(find_common_elements([1, 2, 3], [2, 3, 4]))\n",
    "# Expected Output: [2, 3]\n",
    "\n",
    "print(find_common_elements([5, 6], [7, 8]))\n",
    "# Expected Output: []\n",
    "\n",
    "print(find_common_elements([1, 2], [1, 2, 3, 4]))\n",
    "# Expected Output: [1, 2]\n"
   ]
  },
  {
   "cell_type": "code",
   "execution_count": null,
   "id": "b242a1f2",
   "metadata": {},
   "outputs": [],
   "source": []
  },
  {
   "cell_type": "markdown",
   "id": "76788f80-da9b-4fd2-9579-7d2f4a2fafa9",
   "metadata": {},
   "source": [
    "**Question 4: Search for Substrings in a List of Sentences**\n",
    "    \n",
    "**Problem:** \n",
    "    \n",
    "Given a list of sentences, write a function to find all sentences containing a specific word.\n",
    "\n",
    "**Test Cases:**"
   ]
  },
  {
   "cell_type": "code",
   "execution_count": 2,
   "id": "d9e67226-6f4c-4265-b8ae-6190ca974ced",
   "metadata": {},
   "outputs": [
    {
     "name": "stdout",
     "output_type": "stream",
     "text": [
      "['I love Python', 'Python is great']\n",
      "[]\n",
      "['Python rocks']\n"
     ]
    }
   ],
   "source": [
    "def find_sentences_with_word(list3, text3):\n",
    "    \n",
    "    sentence = []                                   # take an empty list to add matching texts\n",
    "    for sent in list3:                            # traverse through all texts inside the list\n",
    "        if text3 in sent:                         # if the target is present in the sentence add the text\n",
    "            sentence.append(sent)\n",
    "    \n",
    "    return sentence\n",
    "\n",
    "\n",
    "\n",
    "print(find_sentences_with_word([\"I love Python\", \"Python is great\"], \"Python\"))\n",
    "# Expected Output: ['I love Python', 'Python is great']\n",
    "\n",
    "print(find_sentences_with_word([\"Hello world\"], \"Python\"))\n",
    "# Expected Output: []\n",
    "\n",
    "print(find_sentences_with_word([\"Coding is fun\", \"Python rocks\"], \"rocks\"))\n",
    "# Expected Output: ['Python rocks']\n"
   ]
  },
  {
   "cell_type": "code",
   "execution_count": null,
   "id": "1f32f825",
   "metadata": {},
   "outputs": [],
   "source": []
  },
  {
   "cell_type": "markdown",
   "id": "a426758c-ffbb-42ff-af94-0a090f600a6f",
   "metadata": {},
   "source": [
    "**Question 5: Find the First Non-Repeating Element**\n",
    "\n",
    "**Problem:**\n",
    "\n",
    "Given a list of integers, write a function to find the first non-repeating element.\n",
    "\n",
    "**Test Cases:**"
   ]
  },
  {
   "cell_type": "code",
   "execution_count": 23,
   "id": "3cc3060e-4fcc-408d-90f8-b60210de1f74",
   "metadata": {},
   "outputs": [
    {
     "name": "stdout",
     "output_type": "stream",
     "text": [
      "1\n",
      "None\n",
      "7\n"
     ]
    }
   ],
   "source": [
    "def find_first_non_repeating(lst5):\n",
    "    \n",
    "    freq = {}\n",
    "    for num in lst5:\n",
    "        if num in freq:\n",
    "            freq[num] += 1\n",
    "        else:\n",
    "            freq[num] = 1\n",
    "        \n",
    "    for num in freq:\n",
    "        if freq[num] == 1:\n",
    "            return num\n",
    "\n",
    "\n",
    "print(find_first_non_repeating([1, 2, 2, 3, 3, 4]))\n",
    "# Expected Output: 1\n",
    "\n",
    "print(find_first_non_repeating([5, 5, 6, 6]))\n",
    "# Expected Output: None\n",
    "\n",
    "print(find_first_non_repeating([7, 8, 9]))\n",
    "# Expected Output: 7\n"
   ]
  },
  {
   "cell_type": "code",
   "execution_count": null,
   "id": "f8fa04e2",
   "metadata": {},
   "outputs": [],
   "source": []
  },
  {
   "cell_type": "markdown",
   "id": "659a9451-575a-4234-8b79-76c3691e5563",
   "metadata": {},
   "source": [
    "**Question 6: Find All Students Who Scored Above Average**\n",
    "\n",
    "**Problem:**\n",
    "\n",
    "You are given a list of students with their scores in a recent competition. Each student is represented as a tuple containing their name and score. Write a function to find all students who scored above the average. If no one scores above average, return an empty list.\n",
    "\n",
    "**Test Cases**"
   ]
  },
  {
   "cell_type": "code",
   "execution_count": 79,
   "id": "66e2df55",
   "metadata": {
    "scrolled": true
   },
   "outputs": [
    {
     "name": "stdout",
     "output_type": "stream",
     "text": [
      "76.25\n",
      "['Tony', 'Natasha']\n",
      "45.0\n",
      "['Thor']\n",
      "83.75\n",
      "['Wanda', 'Vision']\n"
     ]
    }
   ],
   "source": [
    "def find_above_average_students(students):\n",
    "    \n",
    "    total = 0\n",
    "    count = 0\n",
    "    names = []\n",
    "    for name, scores in students:\n",
    "        count += 1\n",
    "        total += scores\n",
    "    \n",
    "    avg = total / count\n",
    "    print(avg)\n",
    "    \n",
    "    for tup1 in students: \n",
    "        if tup1[1] > avg:\n",
    "            names.append(tup1[0])\n",
    "    \n",
    "    return names\n",
    "\n",
    "students = [(\"Tony\", 85), (\"Steve\", 70), (\"Natasha\", 90), (\"Bruce\", 60)]\n",
    "print(find_above_average_students(students))\n",
    "# Expected Output: ['Tony', 'Natasha']\n",
    "\n",
    "students = [(\"Thor\", 50), (\"Loki\", 40), (\"Hawkeye\", 45)]\n",
    "print(find_above_average_students(students))\n",
    "# Expected Output: []\n",
    "\n",
    "students = [(\"Peter\", 80), (\"Wanda\", 95), (\"Vision\", 85), (\"Strange\", 75)]\n",
    "print(find_above_average_students(students))\n",
    "# Expected Output: ['Peter', 'Wanda', 'Vision']\n"
   ]
  },
  {
   "cell_type": "code",
   "execution_count": 37,
   "id": "d685c3b9-ec8c-489c-85fd-dfe290a0b7f2",
   "metadata": {
    "scrolled": false
   },
   "outputs": [
    {
     "name": "stdout",
     "output_type": "stream",
     "text": [
      "76.25\n",
      "['Tony', 'Natasha']\n",
      "45.0\n",
      "['Thor']\n",
      "83.75\n",
      "['Wanda', 'Vision']\n"
     ]
    }
   ],
   "source": [
    "def find_above_average_students(students):\n",
    "    \n",
    "    total = 0\n",
    "    count = 0\n",
    "    names = []\n",
    "    for tup in students:\n",
    "        count += 1\n",
    "        _, val = tup\n",
    "        total += val\n",
    "    \n",
    "    avg = total / count\n",
    "    print(avg)\n",
    "    \n",
    "    for tup1 in students: \n",
    "        if tup1[1] > avg:\n",
    "            names.append(tup1[0])\n",
    "    \n",
    "    return names\n",
    "        \n",
    "\n",
    "\n",
    "students = [(\"Tony\", 85), (\"Steve\", 70), (\"Natasha\", 90), (\"Bruce\", 60)]\n",
    "print(find_above_average_students(students))\n",
    "# Expected Output: ['Tony', 'Natasha']\n",
    "\n",
    "students = [(\"Thor\", 50), (\"Loki\", 40), (\"Hawkeye\", 45)]\n",
    "print(find_above_average_students(students))\n",
    "# Expected Output: []\n",
    "\n",
    "students = [(\"Peter\", 80), (\"Wanda\", 95), (\"Vision\", 85), (\"Strange\", 75)]\n",
    "print(find_above_average_students(students))\n",
    "# Expected Output: ['Peter', 'Wanda', 'Vision']\n"
   ]
  },
  {
   "cell_type": "code",
   "execution_count": null,
   "id": "8d95619c",
   "metadata": {},
   "outputs": [],
   "source": []
  },
  {
   "cell_type": "markdown",
   "id": "d428d646-6953-4882-8444-4df34b160e41",
   "metadata": {},
   "source": [
    "**Question 7: Find the First Missing Positive Integer**\n",
    "\n",
    "**Problem:**\n",
    "\n",
    "You are given a list of integers, which may include negative numbers, zero, and duplicates. Write a function to find the smallest positive integer (starting from 1) that is missing from the list. Your solution should be efficient and maintain O(n) time complexity. Ignore non-positive numbers in your search.\n",
    "\n",
    "**Test Cases**"
   ]
  },
  {
   "cell_type": "code",
   "execution_count": 43,
   "id": "266521e8-9985-409e-9d8c-9f878f9576e7",
   "metadata": {},
   "outputs": [
    {
     "name": "stdout",
     "output_type": "stream",
     "text": [
      "2\n",
      "3\n",
      "1\n"
     ]
    }
   ],
   "source": [
    "def find_first_missing_positive(lst6):\n",
    "    \n",
    "    positive = [num+1 for num in range(len(lst6))]\n",
    "       \n",
    "    for val in positive:\n",
    "        if val not in lst6:\n",
    "            return val\n",
    "        \n",
    "print(find_first_missing_positive([3, 4, -1, 1]))\n",
    "# Expected Output: 2\n",
    "\n",
    "print(find_first_missing_positive([1, 2, 0]))\n",
    "# Expected Output: 3\n",
    "\n",
    "print(find_first_missing_positive([2, 3, 4, 5]))\n",
    "# Expected Output: 1\n"
   ]
  },
  {
   "cell_type": "code",
   "execution_count": null,
   "id": "2fdc7fce",
   "metadata": {},
   "outputs": [],
   "source": []
  },
  {
   "cell_type": "markdown",
   "id": "524f6394-7394-4826-8c86-759940ed1296",
   "metadata": {},
   "source": [
    "**Question 8:  Identify All Prime Numbers in a List**\n",
    "\n",
    "**Problem:**\n",
    "\n",
    "Given a list of integers, write a function to find all prime numbers using linear search. A prime number is a natural number greater than 1 that has no divisors other than 1 and itself. The solution should be efficient and maintain O(n) time complexity for the search (though checking for primality will take O(√k) for each number)."
   ]
  },
  {
   "cell_type": "code",
   "execution_count": 68,
   "id": "72f37c0b-68d0-41ea-8421-af1aaa3958a4",
   "metadata": {},
   "outputs": [
    {
     "name": "stdout",
     "output_type": "stream",
     "text": [
      "[3, 5, 13]\n",
      "[2]\n",
      "[]\n"
     ]
    }
   ],
   "source": [
    "def find_prime_numbers(lst7):\n",
    "    prime = []\n",
    "    \n",
    "    for num in lst7:\n",
    "        if num <= 1:\n",
    "            continue   # Skip numbers less than or equal to 1\n",
    "            \n",
    "            \n",
    "        flag = True\n",
    "        for i in range(2, (num//2)+1):  \n",
    "            if num % i == 0:\n",
    "                flag = False\n",
    "                break\n",
    "        if flag:\n",
    "            prime.append(num)\n",
    "    \n",
    "    return prime\n",
    "\n",
    "print(find_prime_numbers([10, 3, 5, 8, 13]))  # Expected Output: [3, 5, 13]\n",
    "print(find_prime_numbers([1, 2, 4, 6, 9]))    # Expected Output: [2]\n",
    "print(find_prime_numbers([15, 21, 22, 25]))    # Expected Output: []"
   ]
  },
  {
   "cell_type": "markdown",
   "id": "67011d80",
   "metadata": {},
   "source": [
    "Handling numbers less than or equal to 1:\n",
    "- In the first version, when num <= 1, the code uses continue, \n",
    "    - skips any further checking for numbers less than or equal to 1, \n",
    "    - ensures that the function only processes numbers greater than 1\n",
    "- In the second version, when num <= 1, the code uses pass, \n",
    "    - which does nothing. \n",
    "    - However, the loop will still continue, \n",
    "        - but it proceeds to check the rest of the logic for num."
   ]
  },
  {
   "cell_type": "code",
   "execution_count": null,
   "id": "fb0b4a15",
   "metadata": {},
   "outputs": [],
   "source": []
  },
  {
   "cell_type": "markdown",
   "id": "02adb88f-d3cd-4538-be2d-c8c7f8513272",
   "metadata": {},
   "source": [
    "**Question 9: Find the Most Frequent Element**\n",
    "\n",
    "**Problem:**\n",
    "  \n",
    "Given a list of integers, write a function to find the most frequent element. If there are multiple elements with the same frequency, return any one of them."
   ]
  },
  {
   "cell_type": "code",
   "execution_count": 72,
   "id": "191fc755-785e-42ad-8853-98e5e04da52d",
   "metadata": {},
   "outputs": [
    {
     "name": "stdout",
     "output_type": "stream",
     "text": [
      "3\n",
      "4\n",
      "7\n"
     ]
    }
   ],
   "source": [
    "def find_most_frequent(lst7):\n",
    "    \n",
    "    freq1 = {}\n",
    "    for num_f in lst7:\n",
    "        if num_f in freq1:\n",
    "            freq1[num_f] += 1\n",
    "        else:\n",
    "            freq1[num_f] = 1\n",
    "    \n",
    "    max_num = 0\n",
    "    max_freq = 0\n",
    "    for num, count in freq1.items():\n",
    "        if count > max_freq:\n",
    "            max_freq = count\n",
    "            max_num = num\n",
    "        \n",
    "    return max_num\n",
    "\n",
    "\n",
    "print(find_most_frequent([1, 2, 2, 3, 3, 3]))\n",
    "# Expected Output: 3\n",
    "\n",
    "\n",
    "print(find_most_frequent([4, 4, 5, 5, 6]))\n",
    "# Expected Output: 4 or 5\n",
    "\n",
    "\n",
    "print(find_most_frequent([7]))\n",
    "# Expected Output: 7\n"
   ]
  },
  {
   "cell_type": "code",
   "execution_count": null,
   "id": "11876143",
   "metadata": {},
   "outputs": [],
   "source": []
  },
  {
   "cell_type": "markdown",
   "id": "4302c85c-b63a-485f-ac51-323beea0119d",
   "metadata": {},
   "source": [
    "**Question 10: Detect Faulty Sensors in a Factory Line**\n",
    "\n",
    "**Problem:**\n",
    "    \n",
    "In a factory, several sensors are installed to monitor temperature and pressure along a production line. Each sensor sends readings periodically, and the data from the sensors is collected in a list of tuples, where each tuple contains the sensor ID and a boolean status (True if the sensor is functioning, False if it is faulty).\n",
    "\n",
    "Write a function that performs linear search to find and return the IDs of all faulty sensors in the list. If no sensors are faulty, return an empty list.\n",
    "\n"
   ]
  },
  {
   "cell_type": "code",
   "execution_count": 73,
   "id": "c0fdc3d2-d175-4957-82db-f9974eb5b99f",
   "metadata": {},
   "outputs": [
    {
     "name": "stdout",
     "output_type": "stream",
     "text": [
      "[102, 104]\n",
      "[]\n",
      "[301, 302]\n"
     ]
    }
   ],
   "source": [
    "def find_faulty_sensors(sensors):\n",
    "    \n",
    "    fault = []\n",
    "    for tup in sensors:\n",
    "        if tup[1] == False:\n",
    "            fault.append(tup[0])\n",
    "\n",
    "    return fault\n",
    "\n",
    "sensors = [(101, True), (102, False), (103, True), (104, False)]\n",
    "print(find_faulty_sensors(sensors))\n",
    "# Expected Output: [102, 104]\n",
    "\n",
    "\n",
    "sensors = [(201, True), (202, True), (203, True)]\n",
    "print(find_faulty_sensors(sensors))\n",
    "# Expected Output: []\n",
    "\n",
    "\n",
    "sensors = [(301, False), (302, False)]\n",
    "print(find_faulty_sensors(sensors))\n",
    "# Expected Output: [301, 302]\n"
   ]
  },
  {
   "cell_type": "code",
   "execution_count": 80,
   "id": "bed70baf",
   "metadata": {},
   "outputs": [
    {
     "name": "stdout",
     "output_type": "stream",
     "text": [
      "[102, 104]\n",
      "[]\n",
      "[301, 302]\n"
     ]
    }
   ],
   "source": [
    "def find_faulty_sensors(sensors):\n",
    "    output=[]\n",
    "    for temp, sensor in sensors:\n",
    "        if not sensor:\n",
    "             output.append(temp)\n",
    "    return output\n",
    " \n",
    "sensors = [(101, True), (102, False), (103, True), (104, False)]\n",
    "print(find_faulty_sensors(sensors))\n",
    "# Expected Output: [102, 104]\n",
    "\n",
    "\n",
    "sensors = [(201, True), (202, True), (203, True)]\n",
    "print(find_faulty_sensors(sensors))\n",
    "# Expected Output: []\n",
    "\n",
    "\n",
    "sensors = [(301, False), (302, False)]\n",
    "print(find_faulty_sensors(sensors))\n",
    "# Expected Output: [301, 302]\n"
   ]
  },
  {
   "cell_type": "code",
   "execution_count": null,
   "id": "c40cddf1-9841-4068-9a87-e18564d07a0e",
   "metadata": {},
   "outputs": [],
   "source": []
  }
 ],
 "metadata": {
  "kernelspec": {
   "display_name": "Python 3 (ipykernel)",
   "language": "python",
   "name": "python3"
  },
  "language_info": {
   "codemirror_mode": {
    "name": "ipython",
    "version": 3
   },
   "file_extension": ".py",
   "mimetype": "text/x-python",
   "name": "python",
   "nbconvert_exporter": "python",
   "pygments_lexer": "ipython3",
   "version": "3.10.9"
  }
 },
 "nbformat": 4,
 "nbformat_minor": 5
}
